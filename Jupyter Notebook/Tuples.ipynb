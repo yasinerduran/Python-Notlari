{
 "cells": [
  {
   "cell_type": "markdown",
   "metadata": {
    "collapsed": true,
    "pycharm": {
     "name": "#%% md\n"
    }
   },
   "source": [
    "# TUPLES(Demetler) Veri Yapısı \n",
    "Demetler(tuples) Python dilinde ön tanımlı gelen bir veri yapısıdır. Örnek bir demet yapısı tanımlaması;"
   ]
  },
  {
   "cell_type": "code",
   "execution_count": 2,
   "outputs": [
    {
     "data": {
      "text/plain": "'Yönetim'"
     },
     "metadata": {},
     "output_type": "execute_result",
     "execution_count": 2
    }
   ],
   "source": [
    "ornek_demet = (\"Yönetim\", \"Bilişim\", \"Sistemleri\")\n",
    "ornek_demet[0]"
   ],
   "metadata": {
    "collapsed": false,
    "pycharm": {
     "name": "#%%\n",
     "is_executing": false
    }
   }
  },
  {
   "cell_type": "markdown",
   "source": [
    "Demetler çok büyük ölçüde listelere benzer aralarındaki en temel fark demetlerin değiştirilemez(immutable), listelerin değiştirilebilir(mutable) olamsından kaynaklanır.\n",
    "Değiştirilemez(immutable) olan veri yapılarında herhangi bir değişiklik için veri yapısını baştan oluşturmamız gerekir. Buna karşılık demetler listelere oranla çok daha hızlı erişilebilirdir."
   ],
   "metadata": {
    "collapsed": false
   }
  },
  {
   "cell_type": "code",
   "execution_count": 3,
   "outputs": [
    {
     "traceback": [
      "\u001b[1;31m---------------------------------------------------------------------------\u001b[0m",
      "\u001b[1;31mTypeError\u001b[0m                                 Traceback (most recent call last)",
      "\u001b[1;32m<ipython-input-3-0d5e59a4f307>\u001b[0m in \u001b[0;36m<module>\u001b[1;34m\u001b[0m\n\u001b[1;32m----> 1\u001b[1;33m \u001b[0mornek_demet\u001b[0m\u001b[1;33m[\u001b[0m\u001b[1;36m1\u001b[0m\u001b[1;33m]\u001b[0m \u001b[1;33m=\u001b[0m \u001b[1;34m\"Bilgi\"\u001b[0m\u001b[1;33m\u001b[0m\u001b[1;33m\u001b[0m\u001b[0m\n\u001b[0m\u001b[0;32m      2\u001b[0m \u001b[1;33m\u001b[0m\u001b[0m\n",
      "\u001b[1;31mTypeError\u001b[0m: 'tuple' object does not support item assignment"
     ],
     "ename": "TypeError",
     "evalue": "'tuple' object does not support item assignment",
     "output_type": "error"
    }
   ],
   "source": [
    "ornek_demet[1] = \"Bilgi\""
   ],
   "metadata": {
    "collapsed": false,
    "pycharm": {
     "name": "#%%\n",
     "is_executing": false
    }
   }
  },
  {
   "cell_type": "code",
   "execution_count": 5,
   "outputs": [
    {
     "name": "stdout",
     "text": [
      "('Yönetim', 'Bilgi', 'Sistemleri')\n"
     ],
     "output_type": "stream"
    }
   ],
   "source": [
    "ornek_demet = (\"Yönetim\", \"Bilgi\", \"Sistemleri\")\n",
    "print(ornek_demet)"
   ],
   "metadata": {
    "collapsed": false,
    "pycharm": {
     "name": "#%%\n",
     "is_executing": false
    }
   }
  },
  {
   "cell_type": "markdown",
   "source": [
    "Demetler doğrudan değişkenlere aktarılabilir."
   ],
   "metadata": {
    "collapsed": false
   }
  },
  {
   "cell_type": "code",
   "execution_count": 6,
   "outputs": [
    {
     "name": "stdout",
     "text": [
      "12 3 4\n"
     ],
     "output_type": "stream"
    }
   ],
   "source": [
    "ornek_vektor = (12,3,4) #bir üçgenin kenarları\n",
    "a ,b,c = ornek_vektor\n",
    "print(a,b,c)"
   ],
   "metadata": {
    "collapsed": false,
    "pycharm": {
     "name": "#%%\n",
     "is_executing": false
    }
   }
  },
  {
   "cell_type": "markdown",
   "source": [
    "- Liste ve Demet veri tiplerinin karşılaştırılması;\n",
    "- Liste\n",
    "    - Değiştirilebilir \n",
    "    - Fazla hafıza tüketiyor\n",
    "    - Erişim hızı yavaş\n",
    "- Demet\n",
    "    - Değiştirilemez\n",
    "    - Az hafıza tüketiyor\n",
    "    - Erişim hızı yüksek\n",
    "\n"
   ],
   "metadata": {
    "collapsed": false
   }
  }
 ],
 "metadata": {
  "kernelspec": {
   "display_name": "Python 3",
   "language": "python",
   "name": "python3"
  },
  "language_info": {
   "codemirror_mode": {
    "name": "ipython",
    "version": 2
   },
   "file_extension": ".py",
   "mimetype": "text/x-python",
   "name": "python",
   "nbconvert_exporter": "python",
   "pygments_lexer": "ipython2",
   "version": "2.7.6"
  },
  "pycharm": {
   "stem_cell": {
    "cell_type": "raw",
    "source": [],
    "metadata": {
     "collapsed": false
    }
   }
  }
 },
 "nbformat": 4,
 "nbformat_minor": 0
}