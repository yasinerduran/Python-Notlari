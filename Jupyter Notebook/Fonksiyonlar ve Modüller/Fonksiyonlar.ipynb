{
 "cells": [
  {
   "cell_type": "markdown",
   "metadata": {
    "collapsed": true,
    "pycharm": {
     "name": "#%% md\n"
    }
   },
   "source": [
    "# Fonksiyonlar\n",
    "\n",
    "Python dili prosedürel(yapısal) bir dildir. [Yapısal Programlama](http://bedriemir.com/JavaScript/b1/b1s6.htm) ; Yapısal programlama, geniş programları, küçük parçalara bölerek çözümleme yöntemidir. Her parça, kod ve değişkenleri diğerlerinden soyutlanmış bağımsız fonksiyonlar olarak çözümlenecektir. Bu fonksiyonlara tek giriş noktasından veri beslenmeli ve tek çıkış noktasından değer döndürülmelidir.\n",
    "\n",
    "Yapısal programlama, (Structured Programming) teoremi, kökenleri 1946 daki bilgisayar yapımına yön vermiş olan von Neumann Yapılanmasına dayanan programlama dilleri kuramının bir sonucudur. Bu teoreme göre, hesaplanabilen her fonksiyon, bir programlama diline, üç türlü kontrol yapılanması kullanılarak yerleştirilebilir. Bu kontrol yapılanmaları,\n",
    "1. Sıralı Çalıştırma (Sequential Execution)\n",
    "2. Mantıksal Program Akışı (Logical Program Flow)\n",
    "3. Bir alt programın mantıksal bir değişkenin değeri gerçek (true) olana kadar çalışması (iterasyon) olarak tanımlanır.\n",
    "\n",
    "Bahsedilen kontrol yapılanmalarının sağladığı faydalar [kaynak](http://www.veridefteri.com/2018/01/06/python-programlamaya-giris-fonksiyonlar/)'ta da belirtildiği gibi;\n",
    "\n",
    "1. Aynı kodu defalarca yazmak gerekmez.\n",
    "2. Tekrarlama yüzünden doğacak hatalar ortadan kalkar.\n",
    "3. Bellek (RAM) gereksiz yere dolmaz. Kod parçası onlarca kere tekrarlanmak yerine bir kere yazılır.\n",
    "4. Programcı küçük ayrıntılara tekrar tekrar kafa yormak zorunda kalmaz.\n",
    "5. İşleri küçük birimlere bölmek, programlama hatalarını bulmayı kolaylaştırır.\n",
    "6. Programlama dilinin çekirdek tanımında bulunmayan üst seviye işlemleri tek komutla yapmayı sağlar.\n",
    "7. Fonksiyon kütüphaneleri, uzmanlaşmış programcılar tarafından hızlı ve verimli hale getirilebilir. \n",
    "\n",
    "## Fonksiyon tanımlama\n",
    "**def** kelimesiyle fonksiyon tanımlaması yapabiliriz. Örneğin birden on'a kadar olan sayıların toplamını döndüren bir\n",
    "fonksiyon yazalım. "
   ]
  },
  {
   "cell_type": "code",
   "source": [
    "def topla():\n",
    "    toplam = 0\n",
    "    for i in range(10):\n",
    "        toplam += i\n",
    "    print(toplam)\n",
    "topla()"
   ],
   "metadata": {
    "collapsed": false,
    "pycharm": {
     "name": "#%% \n",
     "is_executing": false
    }
   },
   "execution_count": 6,
   "outputs": [
    {
     "name": "stdout",
     "text": [
      "45\n"
     ],
     "output_type": "stream"
    }
   ]
  },
  {
   "cell_type": "markdown",
   "source": [
    "Eğer istediğimiz sayıya kadar toplamını yaptırmak istiyorsak parametreleri kullanmamız gerekir. Fonksiyonlar yapıları\n",
    "geregince kapalı bir kutuya benzetilebilir. Belirli girdiler vermemiz ve bunun sonucunda belirli çıktılar elde etmemiz \n",
    "gerekir. Bu benzetmede kapalı kutu içerisine gönderilern değerleri parametre olarak isimlendiririz."
   ],
   "metadata": {
    "collapsed": false
   }
  },
  {
   "cell_type": "code",
   "execution_count": 8,
   "outputs": [
    {
     "name": "stdout",
     "text": [
      "10\n"
     ],
     "output_type": "stream"
    }
   ],
   "source": [
    "def topla(istenilen_sayi):\n",
    "    toplam = 0\n",
    "    for i in range(istenilen_sayi):\n",
    "        toplam += i\n",
    "    print(toplam)\n",
    "topla(5)\n"
   ],
   "metadata": {
    "collapsed": false,
    "pycharm": {
     "name": "#%%\n",
     "is_executing": false
    }
   }
  },
  {
   "cell_type": "markdown",
   "source": [
    "Burada fonksiyonumuz bir prosedür gibi davranıyor yani bize geri değer döndürmek yerine verdiğimiz değerler ile işlem \n",
    "gerçekleştirip sonucu konsol ekranına basıyor. Eğer fonksiyonumuzun bize geri değer döndürmesini istersek **return**\n",
    "ifadesinden yararlanabiliriz.\n"
   ],
   "metadata": {
    "collapsed": false
   }
  },
  {
   "cell_type": "code",
   "execution_count": 9,
   "outputs": [
    {
     "name": "stdout",
     "text": [
      "10\n"
     ],
     "output_type": "stream"
    }
   ],
   "source": [
    "def topla(istenilen_sayi):\n",
    "    toplam = 0\n",
    "    for i in range(istenilen_sayi):\n",
    "        toplam += i\n",
    "    return toplam\n",
    "\n",
    "elde_edilen_toplam = topla(5)\n",
    "print(elde_edilen_toplam)"
   ],
   "metadata": {
    "collapsed": false,
    "pycharm": {
     "name": "#%%\n",
     "is_executing": false
    }
   }
  },
  {
   "cell_type": "markdown",
   "source": [
    "Fonksiyonlarımız birden çok parametre alabilir hatta bu parametreler fonksiyon dahi olabilir."
   ],
   "metadata": {
    "collapsed": false
   }
  },
  {
   "cell_type": "code",
   "execution_count": 10,
   "outputs": [
    {
     "name": "stdout",
     "text": [
      "21\n"
     ],
     "output_type": "stream"
    }
   ],
   "source": [
    "def topla(baslangic, bitis, artis):\n",
    "    toplam = 0\n",
    "    for i in range(baslangic,bitis,artis):\n",
    "        toplam += i\n",
    "    return  toplam\n",
    "\n",
    "elde_edilen_toplam = topla(5,10,2)\n",
    "print(elde_edilen_toplam)"
   ],
   "metadata": {
    "collapsed": false,
    "pycharm": {
     "name": "#%%\n",
     "is_executing": false
    }
   }
  },
  {
   "cell_type": "code",
   "execution_count": 11,
   "outputs": [
    {
     "name": "stdout",
     "text": [
      "5\n"
     ],
     "output_type": "stream"
    }
   ],
   "source": [
    "def kare_al(sayi):\n",
    "    return  sayi * sayi\n",
    "\n",
    "def ustler_toplami(baslangic, bitis, ust_fonksiyonu):\n",
    "    toplam = 0\n",
    "    for i in range(baslangic,bitis):\n",
    "        toplam += ust_fonksiyonu(i)\n",
    "    return toplam\n",
    "elde_edilen_toplam = ustler_toplami(1,3,kare_al)\n",
    "print(elde_edilen_toplam)"
   ],
   "metadata": {
    "collapsed": false,
    "pycharm": {
     "name": "#%%\n",
     "is_executing": false
    }
   }
  },
  {
   "cell_type": "markdown",
   "source": [
    "Bir fonksiyona birden çok parametrenin aynı anda verildiği durumlarda parametreleri isimlendirerek kullanmak bir çok \n",
    "hatanın önüne geçicektir. Örnegin bir ürünün alış, satış fiyatlarını ve satış adetini verildiğimizde bize kar yada zarar \n",
    "miktarını dönen bir fonksiyon yazalım."
   ],
   "metadata": {
    "collapsed": false
   }
  },
  {
   "cell_type": "code",
   "execution_count": 12,
   "outputs": [
    {
     "data": {
      "text/plain": "30"
     },
     "metadata": {},
     "output_type": "execute_result",
     "execution_count": 12
    }
   ],
   "source": [
    "def kar_zarar(alis,satis,miktar):\n",
    "    return  (satis - alis) * miktar\n",
    "kar_zarar(20,30,3)"
   ],
   "metadata": {
    "collapsed": false,
    "pycharm": {
     "name": "#%%\n",
     "is_executing": false
    }
   }
  },
  {
   "cell_type": "markdown",
   "source": [
    "kar_zarar() fonksiyonumuzun parametrelerini kolaylıkla başka biri yanlış girebilir. Bu durumu önlemek için;"
   ],
   "metadata": {
    "collapsed": false
   }
  },
  {
   "cell_type": "code",
   "execution_count": 13,
   "outputs": [
    {
     "data": {
      "text/plain": "1200"
     },
     "metadata": {},
     "output_type": "execute_result",
     "execution_count": 13
    }
   ],
   "source": [
    "kar_zarar(alis=100,satis=120,miktar=60)"
   ],
   "metadata": {
    "collapsed": false,
    "pycharm": {
     "name": "#%%\n",
     "is_executing": false
    }
   }
  },
  {
   "cell_type": "markdown",
   "source": [
    "Şeklinde kullanılması bir çok hatalı durumu gidericektir.\n",
    "### Fonksiyonların birden çok değer dönmesi\n",
    "Pythonda fonksiyonlar birden çok değer dönebilirler. Örnek olarak bir kullanıcının eşsiz değeri bir fonksiyona parametre\n",
    "olarak verildiğinde bize kullanıcının ismini ve eposta adresini geri döndürecek bir fonksiyon yazalım."
   ],
   "metadata": {
    "collapsed": false
   }
  },
  {
   "cell_type": "code",
   "execution_count": 18,
   "outputs": [
    {
     "name": "stdout",
     "text": [
      "Müşterinin adı Yasin Erduran, epostası yasinerduran@uludag.edu.tr\n"
     ],
     "output_type": "stream"
    }
   ],
   "source": [
    "def kullanici_bul(kullanici_id):\n",
    "    kullanicilar = {\n",
    "        \"1\": {\n",
    "            \"ad-soyad\":\"Yasin Erduran\",\n",
    "            \"eposta\":\"yasinerduran@uludag.edu.tr\" \n",
    "        },\n",
    "        \"2\": {\n",
    "            \"ad-soyad\":\"Hacer Göçer\",\n",
    "            \"eposta\":\"gocerhacer@art.de\"\n",
    "        },\n",
    "        \"3\": {\n",
    "            \"ad-soyad\":\"Ertuğrul Uzun\",\n",
    "            \"eposta\":\"ertugruluzun@uludag.edu.tr\"\n",
    "        },\n",
    "        \"4\": {\n",
    "            \"ad-soyad\":\"Eda Sönmez\",\n",
    "            \"eposta\":\"edasonmez@uludag.edu.tr\"\n",
    "        },\n",
    "    }\n",
    "    if kullanici_id in kullanicilar.keys():\n",
    "        return kullanicilar[kullanici_id][\"ad-soyad\"], kullanicilar[kullanici_id][\"eposta\"]\n",
    "    else:\n",
    "        return \"Müşteri adı bulunamadı\", \"Müşteri eposta bulunamadı\"\n",
    "\n",
    "musteri_ad, musteri_eposta = kullanici_bul(\"1\")\n",
    "print(\"Müşterinin adı {}, epostası {}\".format(musteri_ad,musteri_eposta))"
   ],
   "metadata": {
    "collapsed": false,
    "pycharm": {
     "name": "#%%\n",
     "is_executing": false
    }
   }
  }
 ],
 "metadata": {
  "kernelspec": {
   "display_name": "Python 3",
   "language": "python",
   "name": "python3"
  },
  "language_info": {
   "codemirror_mode": {
    "name": "ipython",
    "version": 2
   },
   "file_extension": ".py",
   "mimetype": "text/x-python",
   "name": "python",
   "nbconvert_exporter": "python",
   "pygments_lexer": "ipython2",
   "version": "2.7.6"
  },
  "pycharm": {
   "stem_cell": {
    "cell_type": "raw",
    "source": [],
    "metadata": {
     "collapsed": false
    }
   }
  }
 },
 "nbformat": 4,
 "nbformat_minor": 0
}