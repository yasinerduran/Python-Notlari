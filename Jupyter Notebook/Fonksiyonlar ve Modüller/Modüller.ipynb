{
 "cells": [
  {
   "cell_type": "markdown",
   "source": [
    "# Modüller\n",
    "Modüller python dilindeki en önemli konulardan biridir. Modül bazı işlevleri kolaylıkla yerine getirmemizi sağlayan \n",
    "birtakım fonksiyonları ve nitelikleri içinde barındıran bir araçlar bütünü olduğunu söyleyebiliriz.\n",
    "\n",
    "Python dili bir çok standart modül ile birlikte gelir. Bunu python için bir avantaj olarak görebiliriz. Bunun yanında python\n",
    "dilinde birçok açık 3.Parti modül geliştirilmiştir. \n",
    "\n",
    "Eğer modüller olmasaydı, Python programlama dili hem çok kullanışsız bir dil olurdu, hem de modüller sayesinde çok kolay\n",
    "bir şekilde üstesinden gelebildiğimiz zorluklar için her defasında kendimiz yeniden bir çözüm icat etmek zorunda kalırdık.\n",
    "\n",
    "Modüller Kısaca;\n",
    "1. Python dosyaları kapsamında daha az kod yazmamızı,\n",
    "2. Bir kez yazdığımız kodları tekrar tekrar farklı programlar içinde  kullanabilmemizi,\n",
    "3. Daha düzenli, okunabilir programlar yazmamızı sağlarlar.\n",
    "\n",
    "Python üzerinde iki tip modül bulunmaktadır;\n",
    " - Kendi tanımladığımız modüller\n",
    " - Hazır olarak gelen modüller.\n",
    "    - Standart modüller.\n",
    "    - 3.Parti Modüller\n",
    "   \n",
    "## Hazır Modüller \n",
    "\n",
    "Standart Kütüphane Modülleri, doğrudan Python geliştiricileri tarafından yazılıp dile kaynaştırılmış modüllerdir. \n",
    "Bu yönüyle bu modüller daha önce öğrendiğimiz gömülü fonksiyonlara çok benzer. Tıpkı gömülü fonksiyonlarda olduğu gibi,\n",
    "Standart Kütüphane Modülleri de her an emrimize amadedir. Biz bunları istediğimiz her an, herhangi bir ek yazılım kurmak \n",
    "zorunda kalmadan, kendi programlarımız içinde kullanabiliriz.\n",
    "[Daha detaylı bilgi için.. ](https://python-istihza.yazbel.com/moduller.html)\n",
    "\n",
    "Python 3 içerisinde gelen standart kütüphanelerin listesi [https://docs.python.org/3/library/](https://docs.python.org/3/library/) \n",
    "adresinde bulabilirsiniz.\n",
    "\n",
    "### Modüllerin içeri aktarılması\n",
    "Modülleri içe aktarmak için **import** sözcüğünü kullanırız. Örnek olarak işletim sistemi ile ilgili işlemleri gerçekleştirebileceğimiz\n",
    "**os** modülünü programımıza aktaralım."
   ],
   "metadata": {
    "collapsed": false
   }
  },
  {
   "cell_type": "code",
   "execution_count": 4,
   "outputs": [],
   "source": [
    "import os"
   ],
   "metadata": {
    "collapsed": false,
    "pycharm": {
     "name": "#%%\n",
     "is_executing": false
    }
   }
  },
  {
   "cell_type": "markdown",
   "source": [
    "Bu adımdan sonra **dir** adlı ön tanımlı(built-in) fonksiyonu ile bu modül üzerinde bulunan fonksiyonları ve nitelikleri \n",
    "listeliyebiliriz.\n"
   ],
   "metadata": {
    "collapsed": false
   }
  },
  {
   "cell_type": "code",
   "execution_count": 5,
   "outputs": [
    {
     "name": "stdout",
     "text": [
      "['DirEntry', 'F_OK', 'MutableMapping', 'O_APPEND', 'O_BINARY', 'O_CREAT', 'O_EXCL', 'O_NOINHERIT', 'O_RANDOM', 'O_RDONLY', 'O_RDWR', 'O_SEQUENTIAL', 'O_SHORT_LIVED', 'O_TEMPORARY', 'O_TEXT', 'O_TRUNC', 'O_WRONLY', 'P_DETACH', 'P_NOWAIT', 'P_NOWAITO', 'P_OVERLAY', 'P_WAIT', 'PathLike', 'R_OK', 'SEEK_CUR', 'SEEK_END', 'SEEK_SET', 'TMP_MAX', 'W_OK', 'X_OK', '_Environ', '__all__', '__builtins__', '__cached__', '__doc__', '__file__', '__loader__', '__name__', '__package__', '__spec__', '_execvpe', '_exists', '_exit', '_fspath', '_get_exports_list', '_putenv', '_unsetenv', '_wrap_close', 'abc', 'abort', 'access', 'altsep', 'chdir', 'chmod', 'close', 'closerange', 'cpu_count', 'curdir', 'defpath', 'device_encoding', 'devnull', 'dup', 'dup2', 'environ', 'error', 'execl', 'execle', 'execlp', 'execlpe', 'execv', 'execve', 'execvp', 'execvpe', 'extsep', 'fdopen', 'fsdecode', 'fsencode', 'fspath', 'fstat', 'fsync', 'ftruncate', 'get_exec_path', 'get_handle_inheritable', 'get_inheritable', 'get_terminal_size', 'getcwd', 'getcwdb', 'getenv', 'getlogin', 'getpid', 'getppid', 'isatty', 'kill', 'linesep', 'link', 'listdir', 'lseek', 'lstat', 'makedirs', 'mkdir', 'name', 'open', 'pardir', 'path', 'pathsep', 'pipe', 'popen', 'putenv', 'read', 'readlink', 'remove', 'removedirs', 'rename', 'renames', 'replace', 'rmdir', 'scandir', 'sep', 'set_handle_inheritable', 'set_inheritable', 'spawnl', 'spawnle', 'spawnv', 'spawnve', 'st', 'startfile', 'stat', 'stat_result', 'statvfs_result', 'strerror', 'supports_bytes_environ', 'supports_dir_fd', 'supports_effective_ids', 'supports_fd', 'supports_follow_symlinks', 'symlink', 'sys', 'system', 'terminal_size', 'times', 'times_result', 'truncate', 'umask', 'uname_result', 'unlink', 'urandom', 'utime', 'waitpid', 'walk', 'write']\n"
     ],
     "output_type": "stream"
    }
   ],
   "source": [
    "print(dir(os))"
   ],
   "metadata": {
    "collapsed": false,
    "pycharm": {
     "name": "#%%\n",
     "is_executing": false
    }
   }
  },
  {
   "cell_type": "markdown",
   "source": [
    "Örneğin os modülü yardımıyla bilgisayarımızın işletim sistemini döndürecektir."
   ],
   "metadata": {
    "collapsed": false
   }
  },
  {
   "cell_type": "code",
   "execution_count": 6,
   "outputs": [
    {
     "data": {
      "text/plain": "'nt'"
     },
     "metadata": {},
     "output_type": "execute_result",
     "execution_count": 6
    }
   ],
   "source": [
    "os.name"
   ],
   "metadata": {
    "collapsed": false,
    "pycharm": {
     "name": "#%%\n",
     "is_executing": false
    }
   }
  },
  {
   "cell_type": "markdown",
   "source": [
    "**as** Kelimesini kullanarak (Türkçesi:gibi) içeri aktardağımız modülün ismini değiştirebiliriz."
   ],
   "metadata": {
    "collapsed": false
   }
  },
  {
   "cell_type": "code",
   "execution_count": 8,
   "outputs": [
    {
     "name": "stdout",
     "text": [
      "79\n"
     ],
     "output_type": "stream"
    }
   ],
   "source": [
    "import random as rastgele\n",
    "sayi = rastgele.randint(0,100)\n",
    "print(sayi)"
   ],
   "metadata": {
    "collapsed": false,
    "pycharm": {
     "name": "#%%\n",
     "is_executing": false
    }
   }
  },
  {
   "cell_type": "markdown",
   "source": [
    "Eğer doğrudan import os gibi bir komut ile os modülünü programımıza dahil edersek içerisindeki tüm fonksiyonları ve \n",
    "değişkenleride dahil etmiş oluruz. Örnegin os modülünün yanlızca name özelliğine ihtiyacımız olsun ve program içerisine \n",
    "sadece bu özelliği dahil etmek isteyelim.\n"
   ],
   "metadata": {
    "collapsed": false
   }
  },
  {
   "cell_type": "code",
   "execution_count": 9,
   "outputs": [
    {
     "name": "stdout",
     "text": [
      "nt\n"
     ],
     "output_type": "stream"
    }
   ],
   "source": [
    "from os import name\n",
    "print(name)"
   ],
   "metadata": {
    "collapsed": false,
    "pycharm": {
     "name": "#%%\n",
     "is_executing": false
    }
   }
  },
  {
   "cell_type": "code",
   "execution_count": 12,
   "outputs": [
    {
     "name": "stdout",
     "text": [
      "7\n"
     ],
     "output_type": "stream"
    }
   ],
   "source": [
    "from random import randint as rastgele_tamsayi\n",
    "print(rastgele_tamsayi(0,10))"
   ],
   "metadata": {
    "collapsed": false,
    "pycharm": {
     "name": "#%%\n",
     "is_executing": false
    }
   }
  },
  {
   "cell_type": "markdown",
   "source": [
    "Eğer import ifadesiden sonra * karakterini kullanırsak modülün tüm içeriğini doğrudan içeri aktarıcaktır. Ancak bu \n",
    "kullanım programımızın değişkenleri ile modülümüzün değişkenleri arasında bir çakışma yaratabileceği için tercih\n",
    "edilmemelidir."
   ],
   "metadata": {
    "collapsed": false
   }
  },
  {
   "cell_type": "code",
   "execution_count": 13,
   "outputs": [
    {
     "name": "stdout",
     "text": [
      "nt\n"
     ],
     "output_type": "stream"
    }
   ],
   "source": [
    "name = \"Yasin Erduran\"\n",
    "from  os import *\n",
    "print(name)\n"
   ],
   "metadata": {
    "collapsed": false,
    "pycharm": {
     "name": "#%%\n",
     "is_executing": false
    }
   }
  },
  {
   "cell_type": "markdown",
   "source": [
    "## Modül Oluşturma \n",
    "\n",
    "Python içerisindeki tüm modül dosyalarını inceleme ve değiştirme şansımız vardır. Modülleri bulmak için bütün modüllerde ortak \n",
    "olarak barınan bir nitelik olan __ file __ 'dan yararlanılır.\n",
    " "
   ],
   "metadata": {
    "collapsed": false
   }
  },
  {
   "cell_type": "code",
   "execution_count": 17,
   "outputs": [
    {
     "data": {
      "text/plain": "'d:\\\\program files (x86)\\\\microsoft visual studio\\\\shared\\\\python37_64\\\\lib\\\\os.py'"
     },
     "metadata": {},
     "output_type": "execute_result",
     "execution_count": 17
    }
   ],
   "source": [
    "import random\n",
    "\n",
    "random.__file__"
   ],
   "metadata": {
    "collapsed": false,
    "pycharm": {
     "name": "#%%\n",
     "is_executing": false
    }
   }
  },
  {
   "cell_type": "markdown",
   "source": [
    "Öncelikle bu yol her bilgisayar için farklı olacaktır!. Eğer bu dizinde bulunan dosyayı açarsanız random modülünün kodlarına \n",
    "ulaşmış olursunuz. Kendimiz müşteri id'si verildiğinde müşterinin adı soyadı ve eposta adresini bize ulaştıran bir modül \n",
    "yazmak isteyelim. Bu işlem için öncelikle müsteri_bul.py adlı bir dosya oluşturalım. Ardından bu dosya içerisine \n",
    "fonksiyonumuzu yazalım. "
   ],
   "metadata": {
    "collapsed": false,
    "pycharm": {
     "name": "#%% md\n"
    }
   }
  },
  {
   "cell_type": "code",
   "execution_count": null,
   "outputs": [],
   "source": [
    "# musteri_bul.py içerisine yazılmıştır !\n",
    "def kullanici_bul(kullanici_id):\n",
    "    kullanicilar = {\n",
    "        \"1\": {\n",
    "            \"ad-soyad\":\"Yasin Erduran\",\n",
    "            \"eposta\":\"yasinerduran@uludag.edu.tr\" \n",
    "        },\n",
    "        \"2\": {\n",
    "            \"ad-soyad\":\"Hacer Göçer\",\n",
    "            \"eposta\":\"gocerhacer@art.de\"\n",
    "        },\n",
    "        \"3\": {\n",
    "            \"ad-soyad\":\"Ertuğrul Uzun\",\n",
    "            \"eposta\":\"ertugruluzun@uludag.edu.tr\"\n",
    "        },\n",
    "        \"4\": {\n",
    "            \"ad-soyad\":\"Eda Sönmez\",\n",
    "            \"eposta\":\"edasonmez@uludag.edu.tr\"\n",
    "        },\n",
    "        \"5\": {\n",
    "            \"ad-soyad\":\"Erhan Sonkaya\",\n",
    "            \"eposta\":\"erhanlastrock@rock.do\"\n",
    "        },\n",
    "        \"6\": {\n",
    "            \"ad-soyad\":\"Dilek Uzun\",\n",
    "            \"eposta\":\"uzundilek@gmail.gov\"\n",
    "        },\n",
    "    }\n",
    "    if kullanici_id in kullanicilar.keys():\n",
    "        return kullanicilar[kullanici_id][\"ad-soyad\"], kullanicilar[kullanici_id][\"eposta\"]\n",
    "    else:\n",
    "        return \"Müşteri adı bulunamadı\", \"Müşteri eposta bulunamadı\""
   ],
   "metadata": {
    "collapsed": false,
    "pycharm": {
     "name": "#%%\n"
    }
   }
  },
  {
   "cell_type": "markdown",
   "source": [
    "musteri_bul.py dosyamızı kaydedip kapattığımızda ilk modülümüz hazır oluyor!. Şimdi import ile modülümüzü içe aktarabiliriz!\n"
   ],
   "metadata": {
    "collapsed": false
   }
  },
  {
   "cell_type": "code",
   "execution_count": 18,
   "outputs": [
    {
     "name": "stdout",
     "text": [
      "('Yasin Erduran', 'yasinerduran@uludag.edu.tr')\n"
     ],
     "output_type": "stream"
    }
   ],
   "source": [
    "from musteri_bul import kullanici_bul\n",
    "print(kullanici_bul(\"1\"))"
   ],
   "metadata": {
    "collapsed": false,
    "pycharm": {
     "name": "#%%\n",
     "is_executing": false
    }
   }
  },
  {
   "cell_type": "code",
   "execution_count": 20,
   "outputs": [
    {
     "name": "stdout",
     "text": [
      "('Ertuğrul Uzun', 'ertugruluzun@uludag.edu.tr')\n"
     ],
     "output_type": "stream"
    }
   ],
   "source": [
    "import musteri_bul\n",
    "dir(musteri_bul)\n",
    "print(musteri_bul.kullanici_bul(\"3\"))"
   ],
   "metadata": {
    "collapsed": false,
    "pycharm": {
     "name": "#%%\n",
     "is_executing": false
    }
   }
  }
 ],
 "metadata": {
  "kernelspec": {
   "display_name": "Python 3",
   "language": "python",
   "name": "python3"
  },
  "language_info": {
   "codemirror_mode": {
    "name": "ipython",
    "version": 2
   },
   "file_extension": ".py",
   "mimetype": "text/x-python",
   "name": "python",
   "nbconvert_exporter": "python",
   "pygments_lexer": "ipython2",
   "version": "2.7.6"
  },
  "pycharm": {
   "stem_cell": {
    "cell_type": "raw",
    "source": [],
    "metadata": {
     "collapsed": false
    }
   }
  }
 },
 "nbformat": 4,
 "nbformat_minor": 0
}