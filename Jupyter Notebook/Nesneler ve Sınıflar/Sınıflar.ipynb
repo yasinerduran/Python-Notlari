{
 "cells": [
  {
   "cell_type": "markdown",
   "source": [
    "\n",
    "# Nesne Yönelimli programlama\n",
    "Nesne yönelimli programlama, fikrini gerçek hayatta etrafımızda gördüğümüz nesnelerden ve sınıflardan almaktadır. Bir \n",
    "problemi fonksiyonel dillerde olduğu gibi bütün olarak değil belirli sınıflara ve nesnelere bölmemizi sağlar. Dört \n",
    "temel prensibe dayanır;\n",
    "- Inheritance(Kalıtım)\n",
    " - Sınıflar arası ilişkiler dünyanın modellenmesinde kullanılır. Bir sınıfın başka bir sınıftan bilgileri miras olarak\n",
    "  alması istendiğinde aralarında miras (inheritance) ilişkisi kurulur.\n",
    "- Encapsulation(Kapsülleme)\n",
    " - Bu özellik, dilin nesne kullanıcısından gereksiz uygulama ayrıntılarını saklar. Oluşturulan bir sınıf (class)\n",
    "  içerisinde kullanıcının işlemlerini daha kolay gerçekleştirebilmesi için bazı işlemler birleştirilerek tek bir işlem \n",
    "  gibi gösterilir. Bu birleştirme işlemine kapsülleme denir.\n",
    "- Polymorphism(Çok Biçimlilik)\n",
    " - Çokbiçimlilik (Polymorphism) bir nesnenin farklı amaçlar için de kullanılabileceği anlamına gelir.\n",
    "- Abstraction(Soyutlama)\n",
    " - Nesneye yönelimli programlamadaki en önemli kavramlardan biriside soyutlamadır. Büyük ve kapsamlı program birçok \n",
    " sistem parçası ile mesajlaşarak çalışmaktadır. Yapılan bu çalışmaların hepsini bir programcı olarak bilmek zor, zaman\n",
    "  alıcı ve gereksizdir. Böyle bir sistemin detaylarına odaklanmak yerine girdi ve çıktılarını bakmak sistemi daha iyi \n",
    "  anlamıza olanak sağlar.\n",
    "\n",
    "Python dilinde OOP(Object Oriented Programing) | Nesne Yönelimli Programlamaya geçmeden önce sınıf ve nesne kavraımını \n",
    "incelememiz gerekir.\n",
    "## Sınıf Oluşturma \n",
    "\n",
    "Python dilinde sınıf oluşturmak için **class** kelimesinden yararlanırız. Birçok dilde olduğu gibi kurucu(Constructor) \n",
    "ve yıkıcı(Destructor) metodlarını barındır. Python dilinde örnek bir sınıf kodu; "
   ],
   "metadata": {
    "collapsed": false
   }
  },
  {
   "cell_type": "code",
   "execution_count": 3,
   "outputs": [],
   "source": [
    "class Person:\n",
    "    name = None\n",
    "    surname = None\n",
    "    age = None\n",
    "    "
   ],
   "metadata": {
    "collapsed": false,
    "pycharm": {
     "name": "#%%\n",
     "is_executing": false
    }
   }
  },
  {
   "cell_type": "markdown",
   "source": [
    "Mevcut durumda kişi(Person) adında bir sınıfa sahibiz. Sınıf (class) soyut bir veri tipidir. Nesne (object) ise onun \n",
    "somutlaşan bir cismidir. İlk önce sınıf tanımlanır ve kullanılmayı bekler, biz o sınıftan bir nesne türetirsek artık o \n",
    "sınıf bir anlam taşımaktadır."
   ],
   "metadata": {
    "collapsed": false,
    "pycharm": {
     "name": "#%% md\n"
    }
   }
  },
  {
   "cell_type": "code",
   "execution_count": 6,
   "outputs": [
    {
     "name": "stdout",
     "text": [
      "Yasin'in soyadı Erduran'dır ve Yasin'nin yaşı 25'dir\n"
     ],
     "output_type": "stream"
    }
   ],
   "source": [
    "yasin = Person()\n",
    "yasin.name = \"Yasin\"\n",
    "yasin.surname = \"Erduran\"\n",
    "yasin.age = 25\n",
    "\n",
    "print(\"{}'in soyadı {}'dır ve {}'nin yaşı {}'dir\".format(yasin.name, yasin.surname, yasin.name, yasin.age))"
   ],
   "metadata": {
    "collapsed": false,
    "pycharm": {
     "name": "#%%\n",
     "is_executing": false
    }
   }
  },
  {
   "cell_type": "markdown",
   "source": [
    "#### Kurucu ve Yıkıcı metodlar\n",
    "Kişi sınıfından nesne türetme aşamasında Kişi sınıfına ait olan isim, soyisim ve yaş niteliklerine **None** değeri \n",
    "atanmaktadır. Bu durum program akışı esnasında birçok sıkıntıya sebep olabilir yada sınıfımız bizden belirli nitelikleri \n",
    "almadan türeyemez yapıda olabilir. Başka bir durumda ise nesnemiz ile işimiz bittiğinde ve onu ram belleğimiz üzerinden \n",
    "silmek istediğimizde silinmeden gerçekleşmesini istediğimiz kod blokları olabilir. Bahsedilen sorunları aşmak için \n",
    "kurucu ve yıkıcı metodlar kullanılır. "
   ],
   "metadata": {
    "collapsed": false
   }
  },
  {
   "cell_type": "code",
   "execution_count": 13,
   "outputs": [],
   "source": [
    "class Person:\n",
    "    name = None\n",
    "    surname = None\n",
    "    age = None\n",
    "    \n",
    "    #Kurucu metod\n",
    "    def __init__(self,_name,_surname,_age):\n",
    "        self.name = _name\n",
    "        self.surname = _surname\n",
    "        self.age = _age\n",
    "    \n",
    "    def __del__(self):\n",
    "        print(\"{} silindi!\".format(self.name))\n",
    "        "
   ],
   "metadata": {
    "collapsed": false,
    "pycharm": {
     "name": "#%%\n",
     "is_executing": false
    }
   }
  },
  {
   "cell_type": "markdown",
   "source": [
    "Yukarıda bulunan kod bloğunda **init** metodu kurucu metod olarak isimlendirilir ve sınıftan nesne türetilmesi esnasında \n",
    "çalışır.Kod bloğunda bulunan **self** anahtar kelimesş ise objeyi oluşturduğumuz zaman o objeyi gösteren bir\n",
    "referanstır. **del** metodu ise nesnemiz ram üzerinden silinmeden hemen önce çalışan kod blogunu tutar."
   ],
   "metadata": {
    "collapsed": false,
    "pycharm": {
     "name": "#%% md\n"
    }
   }
  },
  {
   "cell_type": "code",
   "execution_count": 14,
   "outputs": [
    {
     "name": "stdout",
     "text": [
      "Yasin'in soyadı Erduran'dır ve Yasin'nin yaşı 25'dir\n"
     ],
     "output_type": "stream"
    }
   ],
   "source": [
    "yasin = Person(_name=\"Yasin\", _surname=\"Erduran\", _age=25)\n",
    "print(\"{}'in soyadı {}'dır ve {}'nin yaşı {}'dir\".format(yasin.name, yasin.surname, yasin.name, yasin.age))"
   ],
   "metadata": {
    "collapsed": false,
    "pycharm": {
     "name": "#%%\n",
     "is_executing": false
    }
   }
  },
  {
   "cell_type": "code",
   "execution_count": 15,
   "outputs": [
    {
     "name": "stdout",
     "text": [
      "Yasin silindi!\n"
     ],
     "output_type": "stream"
    }
   ],
   "source": [
    "del yasin"
   ],
   "metadata": {
    "collapsed": false,
    "pycharm": {
     "name": "#%%\n",
     "is_executing": false
    }
   }
  },
  {
   "cell_type": "markdown",
   "source": [
    "## Katılım(Inheritence)\n",
    "Bir üniversite içerindeki çalışan yapısını modelleyen Öğrenci ve Akademik Personel sınıfları arasındaki \n",
    "ilişkiyi kalıtım yoluyla modelleyelim."
   ],
   "metadata": {
    "collapsed": false
   }
  },
  {
   "cell_type": "code",
   "execution_count": 20,
   "outputs": [
    {
     "name": "stdout",
     "text": [
      "Ahmet'in soyadı Taşcı'dır ve Ahmet'nin yaşı 19'dir\nAhmet'nin ortalaması 3.5'dur\nMehmet'in soyadı Keser'dır ve Mehmet'nin yaşı 35'dir\nMehmet'nin ünvanı Doç.Dr'dır\n"
     ],
     "output_type": "stream"
    }
   ],
   "source": [
    "class Person:\n",
    "    name = None\n",
    "    surname = None\n",
    "    age = None\n",
    "    def __init__(self,_name, _surname,_age):\n",
    "        self.name = _name\n",
    "        self.surname = _surname\n",
    "        self.age = _age\n",
    "        \n",
    "    def info(self):\n",
    "        print(\"{}'in soyadı {}'dır ve {}'nin yaşı {}'dir\".format(self.name, self.surname, self.name, self.age))\n",
    "    \n",
    "class Student(Person):\n",
    "    gano = None\n",
    "    def __init__(self,_gano,_name, _surname,_age):\n",
    "        self.gano = _gano\n",
    "        Person.__init__(self,_name,_surname,_age)\n",
    "        \n",
    "    def getGano(self):\n",
    "        print(\"{}'nin ortalaması {}'dur\".format(self.name,self.gano))\n",
    "        \n",
    "    \n",
    "class AcademicStaff(Person):\n",
    "    title = None\n",
    "    def __init__(self,_title,_name, _surname,_age):\n",
    "        self.title = _title\n",
    "        Person.__init__(self,_name,_surname,_age)\n",
    "        \n",
    "    def getTitle(self):\n",
    "        print(\"{}'nin ünvanı {}'dır\".format(self.name,self.title))\n",
    "\n",
    "ahmet = Student(3.5,\"Ahmet\",\"Taşcı\",19)\n",
    "ahmet.info()\n",
    "ahmet.getGano()\n",
    "\n",
    "mehmet = AcademicStaff(\"Doç.Dr\",\"Mehmet\",\"Keser\",35)\n",
    "mehmet.info()\n",
    "mehmet.getTitle()\n",
    "\n"
   ],
   "metadata": {
    "collapsed": false,
    "pycharm": {
     "name": "#%%\n",
     "is_executing": false
    }
   }
  },
  {
   "cell_type": "markdown",
   "source": [
    "## Kapsülleme(Encapsulation)\n",
    "Yukarıda bulunan kod bloklarında getTitle ve getGano adlı metodların varlığına ragmen title ve gano niteliklerine \n",
    "dışarıdan müdahale halen mümkündür. Bunun engellenmesi için niteliklerin önüne **private** ifadesinin sağlanması için\n",
    "__ ifadesi yerleştirilir."
   ],
   "metadata": {
    "collapsed": false
   }
  },
  {
   "cell_type": "code",
   "execution_count": 22,
   "outputs": [
    {
     "name": "stdout",
     "text": [
      "Mehmet'in soyadı Keser'dır ve Mehmet'nin yaşı 35'dir\nMehmet'nin ünvanı Doç.Dr'dır\n"
     ],
     "output_type": "stream"
    }
   ],
   "source": [
    "class AcademicStaff(Person):\n",
    "    __title = None\n",
    "    def __init__(self,_title,_name, _surname,_age):\n",
    "        self.__title = _title\n",
    "        Person.__init__(self,_name,_surname,_age)\n",
    "        \n",
    "    def getTitle(self):\n",
    "        print(\"{}'nin ünvanı {}'dır\".format(self.name,self.__title))\n",
    "        \n",
    "mehmet = AcademicStaff(\"Doç.Dr\",\"Mehmet\",\"Keser\",35)\n",
    "mehmet.info()\n",
    "mehmet.getTitle()\n"
   ],
   "metadata": {
    "collapsed": false,
    "pycharm": {
     "name": "#%%\n",
     "is_executing": false
    }
   }
  },
  {
   "cell_type": "markdown",
   "source": [
    "eğer title niteliğine doğrudan ulaşmaya çalışırsak aşağıda görülen gibi bir AttributeError ile karşılaşırız. "
   ],
   "metadata": {
    "collapsed": false,
    "pycharm": {
     "name": "#%% md\n"
    }
   }
  },
  {
   "cell_type": "code",
   "execution_count": 23,
   "outputs": [
    {
     "traceback": [
      "\u001b[1;31m---------------------------------------------------------------------------\u001b[0m",
      "\u001b[1;31mAttributeError\u001b[0m                            Traceback (most recent call last)",
      "\u001b[1;32m<ipython-input-23-67144258e154>\u001b[0m in \u001b[0;36m<module>\u001b[1;34m\u001b[0m\n\u001b[1;32m----> 1\u001b[1;33m \u001b[0mmehmet\u001b[0m\u001b[1;33m.\u001b[0m\u001b[0m__title\u001b[0m\u001b[1;33m\u001b[0m\u001b[0m\n\u001b[0m",
      "\u001b[1;31mAttributeError\u001b[0m: 'AcademicStaff' object has no attribute '__title'"
     ],
     "ename": "AttributeError",
     "evalue": "'AcademicStaff' object has no attribute '__title'",
     "output_type": "error"
    }
   ],
   "source": [
    "mehmet.__title"
   ],
   "metadata": {
    "collapsed": false,
    "pycharm": {
     "name": "#%%\n",
     "is_executing": false
    }
   }
  },
  {
   "cell_type": "markdown",
   "source": [
    "Python dilinde kapsülleme işlemi niteliklerin **private** olarak ele alınması ve bu niteliklerin **get** ve **set** \n",
    "işlemleri için ayrı metodlar kullanılmasına dayanır."
   ],
   "metadata": {
    "collapsed": false
   }
  },
  {
   "cell_type": "markdown",
   "source": [
    "## Çok biçimlilik(Polymorphism)\n",
    "Kişi(Person) sınıfı içerisinde **info** olarak adlandırdığımız bir metod yazdık. Bu metod kalıtım yoluyla hem öğrenci \n",
    "hemde akademik personel sınıflarına doğrudan aktarıp kullandık. Ancak bazı durumlarda bu metoddan farklı çıktılar \n",
    "bekleyebiliriz. Bunun için miras aldığımız sınıfı ezeriz(ovverride). \n"
   ],
   "metadata": {
    "collapsed": false
   }
  },
  {
   "cell_type": "code",
   "execution_count": 24,
   "outputs": [
    {
     "name": "stdout",
     "text": [
      "Ahmet'in soyadı Taşcı'dır ve Ahmet'nin yaşı 19'dir\nAhmet'nin ortalaması 3.5'dur\nMehmet Akademik bir personeldir ve soyadı Keser'dır ve Mehmet'nin yaşı 35'dir\nMehmet'nin ünvanı Doç.Dr'dır\n"
     ],
     "output_type": "stream"
    }
   ],
   "source": [
    "class Person:\n",
    "    name = None\n",
    "    surname = None\n",
    "    age = None\n",
    "    def __init__(self,_name, _surname,_age):\n",
    "        self.name = _name\n",
    "        self.surname = _surname\n",
    "        self.age = _age\n",
    "        \n",
    "    def info(self):\n",
    "        print(\"{}'in soyadı {}'dır ve {}'nin yaşı {}'dir\".format(self.name, self.surname, self.name, self.age))\n",
    "\n",
    "class Student(Person):\n",
    "    gano = None\n",
    "    def __init__(self,_gano,_name, _surname,_age):\n",
    "        self.gano = _gano\n",
    "        Person.__init__(self,_name,_surname,_age)\n",
    "        \n",
    "    def getGano(self):\n",
    "        print(\"{}'nin ortalaması {}'dur\".format(self.name,self.gano))\n",
    "        \n",
    "    \n",
    "class AcademicStaff(Person):\n",
    "    title = None\n",
    "    def __init__(self,_title,_name, _surname,_age):\n",
    "        self.title = _title\n",
    "        Person.__init__(self,_name,_surname,_age)\n",
    "        \n",
    "    def getTitle(self):\n",
    "        print(\"{}'nin ünvanı {}'dır\".format(self.name,self.title))\n",
    "    \n",
    "    def info(self):\n",
    "        print(\"{} Akademik bir personeldir ve soyadı {}'dır ve {}'nin yaşı {}'dir\".format(self.name, self.surname, self.name, self.age))\n",
    "\n",
    "ahmet = Student(3.5,\"Ahmet\",\"Taşcı\",19)\n",
    "ahmet.info()\n",
    "ahmet.getGano()\n",
    "\n",
    "mehmet = AcademicStaff(\"Doç.Dr\",\"Mehmet\",\"Keser\",35)\n",
    "mehmet.info()\n",
    "mehmet.getTitle()\n"
   ],
   "metadata": {
    "collapsed": false,
    "pycharm": {
     "name": "#%%\n",
     "is_executing": false
    }
   }
  },
  {
   "cell_type": "markdown",
   "source": [
    "Yukarıda verilen kod bloğunda AcademicStaff sınıfında Person sınıfından bir **info** metodu miras kalmasına rağmen bu \n",
    "metodu ezip(override) çok biçimlilik sağlamış olduk. "
   ],
   "metadata": {
    "collapsed": false
   }
  },
  {
   "cell_type": "markdown",
   "source": [
    "## Soyutlama(Abstraction)\n",
    "Soyutlama programlama açısından python dilinde çok biçimliliğe oldukça benzerdir. Aralarında bulunan temel fark ise \n",
    "soyutlama ile alınan bir metod eğer miras alınan sınıf içerisinde kullanılmaz ise kodun yorumlanmamasıdır. Ayrıca doğrudan\n",
    "python dili tarafından desteklenmez. Standart modülerden abc bizim için bu görevi üstlenir."
   ],
   "metadata": {
    "collapsed": false
   }
  },
  {
   "cell_type": "code",
   "execution_count": 25,
   "outputs": [
    {
     "traceback": [
      "\u001b[1;31m---------------------------------------------------------------------------\u001b[0m",
      "\u001b[1;31mTypeError\u001b[0m                                 Traceback (most recent call last)",
      "\u001b[1;32m<ipython-input-25-847332b22643>\u001b[0m in \u001b[0;36m<module>\u001b[1;34m\u001b[0m\n\u001b[0;32m     24\u001b[0m \u001b[1;33m\u001b[0m\u001b[0m\n\u001b[0;32m     25\u001b[0m \u001b[1;33m\u001b[0m\u001b[0m\n\u001b[1;32m---> 26\u001b[1;33m \u001b[0mahmet\u001b[0m \u001b[1;33m=\u001b[0m \u001b[0mStudent\u001b[0m\u001b[1;33m(\u001b[0m\u001b[1;36m3.5\u001b[0m\u001b[1;33m,\u001b[0m\u001b[1;34m\"Ahmet\"\u001b[0m\u001b[1;33m,\u001b[0m\u001b[1;34m\"Taşcı\"\u001b[0m\u001b[1;33m,\u001b[0m\u001b[1;36m19\u001b[0m\u001b[1;33m)\u001b[0m\u001b[1;33m\u001b[0m\u001b[0m\n\u001b[0m\u001b[0;32m     27\u001b[0m \u001b[1;33m\u001b[0m\u001b[0m\n",
      "\u001b[1;31mTypeError\u001b[0m: Can't instantiate abstract class Student with abstract methods info"
     ],
     "ename": "TypeError",
     "evalue": "Can't instantiate abstract class Student with abstract methods info",
     "output_type": "error"
    }
   ],
   "source": [
    "from abc import ABC, abstractmethod\n",
    "class Person(ABC):\n",
    "    name = None\n",
    "    surname = None\n",
    "    age = None\n",
    "    def __init__(self,_name, _surname,_age):\n",
    "        self.name = _name\n",
    "        self.surname = _surname\n",
    "        self.age = _age\n",
    "    \n",
    "    @abstractmethod    \n",
    "    def info(self):\n",
    "        pass\n",
    "\n",
    "class Student(Person):\n",
    "    gano = None\n",
    "    def __init__(self,_gano,_name, _surname,_age):\n",
    "        self.gano = _gano\n",
    "        Person.__init__(self,_name,_surname,_age)\n",
    "        \n",
    "    def getGano(self):\n",
    "        print(\"{}'nin ortalaması {}'dur\".format(self.name,self.gano))\n",
    "    \n",
    "        \n",
    "\n",
    "ahmet = Student(3.5,\"Ahmet\",\"Taşcı\",19)\n"
   ],
   "metadata": {
    "collapsed": false,
    "pycharm": {
     "name": "#%%\n",
     "is_executing": false
    }
   }
  },
  {
   "cell_type": "code",
   "execution_count": 27,
   "outputs": [
    {
     "name": "stdout",
     "text": [
      "Ahmet  bir Öğrencidir ve soyadı Taşcı'dır ve Ahmet'nin yaşı 19'dir\nAhmet'nin ortalaması 3.5'dur\n"
     ],
     "output_type": "stream"
    }
   ],
   "source": [
    "class Student(Person):\n",
    "    gano = None\n",
    "    def __init__(self,_gano,_name, _surname,_age):\n",
    "        self.gano = _gano\n",
    "        Person.__init__(self,_name,_surname,_age)\n",
    "        \n",
    "    def getGano(self):\n",
    "        print(\"{}'nin ortalaması {}'dur\".format(self.name,self.gano))\n",
    "        \n",
    "    def info(self):\n",
    "        print(\"{}  bir Öğrencidir ve soyadı {}'dır ve {}'nin yaşı {}'dir\".format(self.name, self.surname, self.name, self.age))\n",
    "\n",
    "    \n",
    "        \n",
    "\n",
    "ahmet = Student(3.5,\"Ahmet\",\"Taşcı\",19)\n",
    "ahmet.info()\n",
    "ahmet.getGano()\n"
   ],
   "metadata": {
    "collapsed": false,
    "pycharm": {
     "name": "#%%\n",
     "is_executing": false
    }
   }
  }
 ],
 "metadata": {
  "language_info": {
   "codemirror_mode": {
    "name": "ipython",
    "version": 2
   },
   "file_extension": ".py",
   "mimetype": "text/x-python",
   "name": "python",
   "nbconvert_exporter": "python",
   "pygments_lexer": "ipython2",
   "version": "2.7.6"
  },
  "kernelspec": {
   "name": "python3",
   "language": "python",
   "display_name": "Python 3"
  },
  "pycharm": {
   "stem_cell": {
    "cell_type": "raw",
    "source": [
     " "
    ],
    "metadata": {
     "collapsed": false
    }
   }
  }
 },
 "nbformat": 4,
 "nbformat_minor": 0
}