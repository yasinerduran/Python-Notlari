{
 "cells": [
  {
   "cell_type": "markdown",
   "source": [
    "# Döngüler\n",
    "\n",
    "## While Dögüsü\n",
    "While döngüsü bir koşul değeri sağlandığı sürece belirli işlemleri tekrar tekrar yapmamızı sağlayan bir yapıdır.\n"
   ],
   "metadata": {
    "collapsed": false
   }
  },
  {
   "cell_type": "code",
   "execution_count": 1,
   "outputs": [
    {
     "name": "stdout",
     "text": [
      "Sayi : 0\nSayi : 1\nSayi : 2\nSayi : 3\nSayi : 4\nSayi : 5\nSayi : 6\nSayi : 7\nSayi : 8\nSayi : 9\n10\nSayı artık 10 dan küçük değil!\n"
     ],
     "output_type": "stream"
    }
   ],
   "source": [
    "sayi = 0\n",
    "while sayi <10:\n",
    "    print(\"Sayi : {}\".format(sayi))\n",
    "    sayi = sayi + 1\n",
    "print(sayi)\n",
    "print(\"Sayı artık 10 dan küçük değil!\")"
   ],
   "metadata": {
    "collapsed": false,
    "pycharm": {
     "name": "#%%\n",
     "is_executing": false
    }
   }
  },
  {
   "cell_type": "markdown",
   "source": [
    "## For Döngüsü\n",
    "While döngüsü gibi belirli koşullarda tekrarlı işlemleri yapmamızı sağlayan bir döngü yapısıdır. Pythonda neredeyse\n",
    "her veri türü yinebilir yapıdadır. Örneğin \"Yönetim Bilişim Sistemleri\" string verisi bir çok char türündeki verinin \n",
    "birleşimi ile oluşmuştur. \n"
   ],
   "metadata": {
    "collapsed": false
   }
  },
  {
   "cell_type": "code",
   "execution_count": 5,
   "outputs": [
    {
     "data": {
      "text/plain": "str"
     },
     "metadata": {},
     "output_type": "execute_result",
     "execution_count": 5
    }
   ],
   "source": [
    "yazi = \"Yönetim Bilişim Sistemleri\"\n",
    "type(yazi)"
   ],
   "metadata": {
    "collapsed": false,
    "pycharm": {
     "name": "#%%\n",
     "is_executing": false
    }
   }
  },
  {
   "cell_type": "code",
   "execution_count": 6,
   "outputs": [
    {
     "name": "stdout",
     "text": [
      "Yinelenen Eleman = Y\nYinelenen Eleman = ö\nYinelenen Eleman = n\nYinelenen Eleman = e\nYinelenen Eleman = t\nYinelenen Eleman = i\nYinelenen Eleman = m\nYinelenen Eleman =  \nYinelenen Eleman = B\nYinelenen Eleman = i\nYinelenen Eleman = l\nYinelenen Eleman = i\nYinelenen Eleman = ş\nYinelenen Eleman = i\nYinelenen Eleman = m\nYinelenen Eleman =  \nYinelenen Eleman = S\nYinelenen Eleman = i\nYinelenen Eleman = s\nYinelenen Eleman = t\nYinelenen Eleman = e\nYinelenen Eleman = m\nYinelenen Eleman = l\nYinelenen Eleman = e\nYinelenen Eleman = r\nYinelenen Eleman = i\n"
     ],
     "output_type": "stream"
    }
   ],
   "source": [
    "for yinelenen_eleman in yazi:\n",
    "    print(\"Yinelenen Eleman = {}\".format(yinelenen_eleman))"
   ],
   "metadata": {
    "collapsed": false,
    "pycharm": {
     "name": "#%%\n",
     "is_executing": false
    }
   }
  },
  {
   "cell_type": "markdown",
   "source": [
    "Listeler de yinelenebilir bir yapıdadır ve for döngülerinde kullanılabilirler."
   ],
   "metadata": {
    "collapsed": false
   }
  },
  {
   "cell_type": "code",
   "execution_count": 7,
   "outputs": [
    {
     "name": "stdout",
     "text": [
      "Yönetim\nBilişim\nSistemleri\n"
     ],
     "output_type": "stream"
    }
   ],
   "source": [
    "bolum = [\"Yönetim\", \"Bilişim\",\"Sistemleri\"]\n",
    "for yinelenen_eleman in bolum:\n",
    "    print(yinelenen_eleman)"
   ],
   "metadata": {
    "collapsed": false,
    "pycharm": {
     "name": "#%%\n",
     "is_executing": false
    }
   }
  },
  {
   "cell_type": "markdown",
   "source": [
    "Eğer elimizde yinelenebilir bir değişken yok ise örneğin sadece belirli bir sayıya kadar işlem yapmak istiyor isek **Range**\n",
    "fonksiyonundan yararlanabiliriz."
   ],
   "metadata": {
    "collapsed": false
   }
  },
  {
   "cell_type": "code",
   "execution_count": 8,
   "outputs": [
    {
     "name": "stdout",
     "text": [
      "0\n1\n2\n3\n4\n5\n6\n7\n8\n9\n"
     ],
     "output_type": "stream"
    }
   ],
   "source": [
    "for deger in range(10):\n",
    "    print(deger)"
   ],
   "metadata": {
    "collapsed": false,
    "pycharm": {
     "name": "#%%\n",
     "is_executing": false
    }
   }
  },
  {
   "cell_type": "markdown",
   "source": [
    "Range fonksiyonu ile aralıkta belirtmek mümkündür.İlk verdiğimiz değerden son verdiğimiz değere kadar itere edilebilir bir\n",
    "yapı elde etmemizi sağlar."
   ],
   "metadata": {
    "collapsed": false
   }
  },
  {
   "cell_type": "code",
   "execution_count": 9,
   "outputs": [
    {
     "name": "stdout",
     "text": [
      "5\n6\n7\n8\n"
     ],
     "output_type": "stream"
    }
   ],
   "source": [
    "for deger in range(5,9):\n",
    "    print(deger)"
   ],
   "metadata": {
    "collapsed": false,
    "pycharm": {
     "name": "#%%\n",
     "is_executing": false
    }
   }
  },
  {
   "cell_type": "markdown",
   "source": [
    "Range komutu temelde bize yinelenebilir bir liste döndürür."
   ],
   "metadata": {
    "collapsed": false
   }
  },
  {
   "cell_type": "code",
   "execution_count": 18,
   "outputs": [
    {
     "data": {
      "text/plain": "5"
     },
     "metadata": {},
     "output_type": "execute_result",
     "execution_count": 18
    }
   ],
   "source": [
    "item = range(5,10)\n",
    "item[0]"
   ],
   "metadata": {
    "collapsed": false,
    "pycharm": {
     "name": "#%%\n",
     "is_executing": false
    }
   }
  },
  {
   "cell_type": "markdown",
   "source": [
    "Eğer Elimizde bir liste yada tupple veri seti mevcut ise **enumerate** fonksiyonu ile bu veri yapılarını index numaraları \n",
    "ile birlikte yazdırmamız mümkündür."
   ],
   "metadata": {
    "collapsed": false
   }
  },
  {
   "cell_type": "code",
   "execution_count": 19,
   "outputs": [
    {
     "name": "stdout",
     "text": [
      "0 : Ali\n1 : Mehmet\n2 : Ayşe\n3 : Deniz\n"
     ],
     "output_type": "stream"
    }
   ],
   "source": [
    "liste = [\"Ali\", \"Mehmet\", \"Ayşe\", \"Deniz\"]\n",
    "for sıra, eleman in enumerate(liste):\n",
    "    print(\"{} : {}\".format(sıra,eleman))"
   ],
   "metadata": {
    "collapsed": false,
    "pycharm": {
     "name": "#%%\n",
     "is_executing": false
    }
   }
  },
  {
   "cell_type": "markdown",
   "source": [
    "Sözlükler de yinelenebilir bir veri yapısıdır ve for döngüleri ile birlikte kullanılabilirler. "
   ],
   "metadata": {
    "collapsed": false
   }
  },
  {
   "cell_type": "code",
   "execution_count": 21,
   "outputs": [],
   "source": [
    "cv = {\n",
    "    \"Aylin\":{\n",
    "        \"Soyisim\":\"Ertürk\",\n",
    "        \"Beceriler\":(\"C#\", \"Python\", \"Mobil Programlama\"),\n",
    "        \"Daha Önceki İş Tecrübeleri\":[\"Arena Bilişim\", \"DHT Lojistik\", \"Trendyol\"],\n",
    "        \"Yaş\":24\n",
    "    },\n",
    "    \"Ömer\":{\n",
    "        \"Soyisim\":\"Keser\",\n",
    "        \"Beceriler\":(\"PHP\", \"Larave\", \"Mobil Programlama\", \"RestAPI\"),\n",
    "        \"Daha Önceki İş Tecrübeleri\":[\"Google\", \"Çelmo Mobilya\" ],\n",
    "        \"Yaş\":27\n",
    "    },\n",
    "    \"Deniz\":{\n",
    "        \"Soyisim\":\"Metin\",\n",
    "        \"Beceriler\":(\"C#\", \"RestAPI\", \"Mobil Programlama\"),\n",
    "        \"Daha Önceki İş Tecrübeleri\":[\"Microsoft\", \"CD Project\", \"HP\"],\n",
    "        \"Yaş\":34\n",
    "    }\n",
    "}"
   ],
   "metadata": {
    "collapsed": false,
    "pycharm": {
     "name": "#%%\n",
     "is_executing": false
    }
   }
  },
  {
   "cell_type": "code",
   "execution_count": 29,
   "outputs": [
    {
     "name": "stdout",
     "text": [
      "Aylin\nÖmer\nDeniz\n"
     ],
     "output_type": "stream"
    }
   ],
   "source": [
    "for  anahtar in cv:\n",
    "    print(anahtar)\n"
   ],
   "metadata": {
    "collapsed": false,
    "pycharm": {
     "name": "#%%\n",
     "is_executing": false
    }
   }
  }
 ],
 "metadata": {
  "language_info": {
   "codemirror_mode": {
    "name": "ipython",
    "version": 2
   },
   "file_extension": ".py",
   "mimetype": "text/x-python",
   "name": "python",
   "nbconvert_exporter": "python",
   "pygments_lexer": "ipython2",
   "version": "2.7.6"
  },
  "kernelspec": {
   "name": "python3",
   "language": "python",
   "display_name": "Python 3"
  },
  "pycharm": {
   "stem_cell": {
    "cell_type": "raw",
    "source": [],
    "metadata": {
     "collapsed": false
    }
   }
  }
 },
 "nbformat": 4,
 "nbformat_minor": 0
}