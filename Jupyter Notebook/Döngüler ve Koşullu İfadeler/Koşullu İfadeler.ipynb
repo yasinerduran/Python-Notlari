{
 "cells": [
  {
   "cell_type": "markdown",
   "source": [
    "# Koşullu İfadeler\n",
    "Koşullu ifadelerde doğruluğu sınanan koşullar sonucu doğru yada yanlış olan mantıksal ifadelerdir. \n",
    "Python dilinde koşul belirtmek için ==, !=, <, >, <=, >= ifadeleri kullanılabilir."
   ],
   "metadata": {
    "collapsed": false
   }
  },
  {
   "cell_type": "code",
   "execution_count": 1,
   "outputs": [
    {
     "data": {
      "text/plain": "False"
     },
     "metadata": {},
     "output_type": "execute_result",
     "execution_count": 1
    }
   ],
   "source": [
    "sayi1=12\n",
    "sayi2=16\n",
    "\n",
    "sayi1 > sayi2"
   ],
   "metadata": {
    "collapsed": false,
    "pycharm": {
     "name": "#%%\n",
     "is_executing": false
    }
   }
  },
  {
   "cell_type": "code",
   "execution_count": 2,
   "outputs": [
    {
     "data": {
      "text/plain": "True"
     },
     "metadata": {},
     "output_type": "execute_result",
     "execution_count": 2
    }
   ],
   "source": [
    "sayi2 >= sayi1"
   ],
   "metadata": {
    "collapsed": false,
    "pycharm": {
     "name": "#%%\n",
     "is_executing": false
    }
   }
  },
  {
   "cell_type": "code",
   "execution_count": 3,
   "outputs": [
    {
     "data": {
      "text/plain": "True"
     },
     "metadata": {},
     "output_type": "execute_result",
     "execution_count": 3
    }
   ],
   "source": [
    "sayi2 != sayi1"
   ],
   "metadata": {
    "collapsed": false,
    "pycharm": {
     "name": "#%%\n",
     "is_executing": false
    }
   }
  },
  {
   "cell_type": "markdown",
   "source": [
    "Birden çok mantıksal sorguyu yapabilmek için **ve** koşulu için **\"&\"** , **veya** koşulu için **\"|\"** operatörleri \n",
    "kullanılabilir."
   ],
   "metadata": {
    "collapsed": false
   }
  },
  {
   "cell_type": "code",
   "execution_count": 4,
   "outputs": [],
   "source": [
    "sayi3 = 10"
   ],
   "metadata": {
    "collapsed": false,
    "pycharm": {
     "name": "#%%\n",
     "is_executing": false
    }
   }
  },
  {
   "cell_type": "code",
   "execution_count": 5,
   "outputs": [
    {
     "data": {
      "text/plain": "True"
     },
     "metadata": {},
     "output_type": "execute_result",
     "execution_count": 5
    }
   ],
   "source": [
    "(sayi1<sayi2)&(sayi2>sayi3)"
   ],
   "metadata": {
    "collapsed": false,
    "pycharm": {
     "name": "#%%\n",
     "is_executing": false
    }
   }
  },
  {
   "cell_type": "code",
   "execution_count": 6,
   "outputs": [
    {
     "data": {
      "text/plain": "True"
     },
     "metadata": {},
     "output_type": "execute_result",
     "execution_count": 6
    }
   ],
   "source": [
    "(sayi1<sayi2)|(sayi2<sayi3)"
   ],
   "metadata": {
    "collapsed": false,
    "pycharm": {
     "name": "#%%\n",
     "is_executing": false
    }
   }
  },
  {
   "cell_type": "markdown",
   "source": [
    "Pythonda da program akışını düzenlemek için if ve else yapısı bulunur;\n",
    "1. ### if koşul:\n",
    "2. koşul gerçekleşirse yapılacaklar\n",
    "3. ### elif ilk koşul sağlanmadığı durumda koşul:\n",
    "4.      koşul gerçekleşirse yapılacaklar\n",
    "5. ### else:\n",
    "6.      hiçbir koşul gerçekleşmez ise yapılacaklar."
   ],
   "metadata": {
    "collapsed": false
   }
  },
  {
   "cell_type": "code",
   "execution_count": null,
   "outputs": [],
   "source": [
    "if sayi3 == 6:\n",
    "    print(\"Koşul gerçekleşti\")\n",
    "elif (sayi2 < sayi1) & (sayi3==6):\n",
    "    print(\"Birinci koşul gerçekleşmedi ikinci koşul gerçekleşti\")\n",
    "else:\n",
    "    print(\"Hiçbir koşul gerçekleşmedi!\")\n"
   ],
   "metadata": {
    "collapsed": false,
    "pycharm": {
     "name": "#%%\n"
    }
   }
  }
 ],
 "metadata": {
  "language_info": {
   "codemirror_mode": {
    "name": "ipython",
    "version": 2
   },
   "file_extension": ".py",
   "mimetype": "text/x-python",
   "name": "python",
   "nbconvert_exporter": "python",
   "pygments_lexer": "ipython2",
   "version": "2.7.6"
  },
  "kernelspec": {
   "name": "python3",
   "language": "python",
   "display_name": "Python 3"
  },
  "pycharm": {
   "stem_cell": {
    "cell_type": "raw",
    "source": [],
    "metadata": {
     "collapsed": false
    }
   }
  }
 },
 "nbformat": 4,
 "nbformat_minor": 0
}