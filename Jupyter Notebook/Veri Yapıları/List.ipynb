{
 "cells": [
  {
   "cell_type": "markdown",
   "source": [
    "# List(Liste) Veri Yapısı\n",
    "Listeler diğer programlama dillerinden tanıdığımız dizi yapısına benzer.\n",
    "Birden fazla ve türde veriyi içlerinde barındırabilirler. "
   ],
   "metadata": {
    "collapsed": false
   }
  },
  {
   "cell_type": "code",
   "execution_count": 31,
   "metadata": {
    "collapsed": true,
    "pycharm": {
     "name": "#%%\n",
     "is_executing": false
    }
   },
   "outputs": [
    {
     "name": "stdout",
     "text": [
      "[54, 45, 12.3, True, 'Python']\n"
     ],
     "output_type": "stream"
    }
   ],
   "source": [
    "notlar = [54, 45, 12.3, True, \"Python\"]\n",
    "print(notlar)\n"
   ]
  },
  {
   "cell_type": "markdown",
   "source": [
    "Listelerde index değeri kullanılarak liste içerisindeki elemanlara ulaşılabilir.\n",
    "Ayrıca ':' operatörü ile belirli aralıktaki değerlere bir arada ulaşma imkanımız da vardır.\n"
   ],
   "metadata": {
    "collapsed": false
   }
  },
  {
   "cell_type": "code",
   "execution_count": 32,
   "outputs": [
    {
     "name": "stdout",
     "text": [
      "45\n"
     ],
     "output_type": "stream"
    }
   ],
   "source": [
    "print(notlar[1])"
   ],
   "metadata": {
    "collapsed": false,
    "pycharm": {
     "name": "#%%\n",
     "is_executing": false
    }
   }
  },
  {
   "cell_type": "code",
   "execution_count": 33,
   "outputs": [
    {
     "name": "stdout",
     "text": [
      "Python\n"
     ],
     "output_type": "stream"
    }
   ],
   "source": [
    "print(notlar[-1])"
   ],
   "metadata": {
    "collapsed": false,
    "pycharm": {
     "name": "#%%\n",
     "is_executing": false
    }
   }
  },
  {
   "cell_type": "code",
   "execution_count": 34,
   "outputs": [
    {
     "name": "stdout",
     "text": [
      "[12.3, True, 'Python']\n"
     ],
     "output_type": "stream"
    }
   ],
   "source": [
    "print(notlar[-3:])"
   ],
   "metadata": {
    "collapsed": false,
    "pycharm": {
     "name": "#%%\n",
     "is_executing": false
    }
   }
  },
  {
   "cell_type": "markdown",
   "source": [
    "Listelere append fonksiyonu yardımıyla veri eklenebilir ayrıca index değeri belirtilerek liste\n",
    "içerisinde bulunan değerler de değiştirilebilir.\n",
    "\n"
   ],
   "metadata": {
    "collapsed": false,
    "pycharm": {
     "name": "#%% md\n"
    }
   }
  },
  {
   "cell_type": "code",
   "execution_count": 35,
   "outputs": [
    {
     "name": "stdout",
     "text": [
      "[54, 100, 12.3, True, 'Python']\n"
     ],
     "output_type": "stream"
    }
   ],
   "source": [
    "notlar[1] = 100\n",
    "print(notlar)"
   ],
   "metadata": {
    "collapsed": false,
    "pycharm": {
     "name": "#%%\n",
     "is_executing": false
    }
   }
  },
  {
   "cell_type": "code",
   "execution_count": 36,
   "outputs": [
    {
     "name": "stdout",
     "text": [
      "[54, 100, 12.3, True, 'Python', 'Yeni Değer']\n"
     ],
     "output_type": "stream"
    }
   ],
   "source": [
    "notlar.append(\"Yeni Değer\")\n",
    "print(notlar)"
   ],
   "metadata": {
    "collapsed": false,
    "pycharm": {
     "name": "#%%\n",
     "is_executing": false
    }
   }
  },
  {
   "cell_type": "markdown",
   "source": [
    "Listelere veri eklemek için kullanılabilicek farklı bir metod da insert metodudur. \n",
    "Insert metodunun append metodundan farkı eklenecek verinin hangi index numarasına tekabül edeceğini \n",
    "belirliyebilmemizdir."
   ],
   "metadata": {
    "collapsed": false
   }
  },
  {
   "cell_type": "code",
   "execution_count": 37,
   "outputs": [
    {
     "name": "stdout",
     "text": [
      "Eski hali =>[54, 100, 12.3, True, 'Python', 'Yeni Değer']\nYeni hali =>[54, 100, 12.3, 'Daha yeni değer', True, 'Python', 'Yeni Değer']\n"
     ],
     "output_type": "stream"
    }
   ],
   "source": [
    "print(\"Eski hali =>{}\".format(notlar))\n",
    "\n",
    "notlar.insert(3,\"Daha yeni değer\")\n",
    "\n",
    "print(\"Yeni hali =>{}\".format(notlar))"
   ],
   "metadata": {
    "collapsed": false,
    "pycharm": {
     "name": "#%%\n",
     "is_executing": false
    }
   }
  },
  {
   "cell_type": "markdown",
   "source": [
    "Listeler sıklıkla döngüler ile birlikte kullanılırlar. Python dilinde bir çok veri yapısı karakter veri tipleri \n",
    "de dahil olmak üzere itere edilebilirdir.Bir çok dilde buluanan foreach döngü yapısına benzetmek mümkündür."
   ],
   "metadata": {
    "collapsed": false
   }
  },
  {
   "cell_type": "code",
   "execution_count": 38,
   "outputs": [
    {
     "name": "stdout",
     "text": [
      "54\n100\n12.3\nDaha yeni değer\nTrue\nPython\n",
      "Yeni Değer\n"
     ],
     "output_type": "stream"
    }
   ],
   "source": [
    "for index in notlar:\n",
    "    print(index)"
   ],
   "metadata": {
    "collapsed": false,
    "pycharm": {
     "name": "#%%\n",
     "is_executing": false
    }
   }
  },
  {
   "cell_type": "markdown",
   "source": [
    "## Split ve List \n",
    "Split metodu bir String ifadeyi tekrar eden bir karaktere göre bölüp liste olarak ele almamızı sağlar. "
   ],
   "metadata": {
    "collapsed": false
   }
  },
  {
   "cell_type": "code",
   "execution_count": 39,
   "outputs": [
    {
     "name": "stdout",
     "text": [
      "12,45,66,12,76,99,1\n"
     ],
     "output_type": "stream"
    }
   ],
   "source": [
    "notlar = \"12,45,66,12,76,99,1\"\n",
    "print(notlar)"
   ],
   "metadata": {
    "collapsed": false,
    "pycharm": {
     "name": "#%%\n",
     "is_executing": false
    }
   }
  },
  {
   "cell_type": "code",
   "execution_count": 40,
   "outputs": [
    {
     "name": "stdout",
     "text": [
      "['12', '45', '66', '12', '76', '99', '1']",
      "\n"
     ],
     "output_type": "stream"
    }
   ],
   "source": [
    "notlar =  notlar.split(',')\n",
    "print(notlar)"
   ],
   "metadata": {
    "collapsed": false,
    "pycharm": {
     "name": "#%%\n",
     "is_executing": false
    }
   }
  },
  {
   "cell_type": "markdown",
   "source": [
    "Her zaman verilen bir string ifade yukarıda verilmiş olan örnekte olduğu gibi düzenli bir biçimde virgüllerle\n",
    "ayrılmamıştır. Bu durumda **list** fonksiyonu kullanılır. Bu fonksiyon her karakterin listenin ayrı bir elemanı olduğunu varsayar."
   ],
   "metadata": {
    "collapsed": false
   }
  },
  {
   "cell_type": "code",
   "execution_count": 41,
   "outputs": [
    {
     "name": "stdout",
     "text": [
      "['1', '2', '4', '5', '6', '6', '1', '2', '7', '6', '9', '9', '1']\n"
     ],
     "output_type": "stream"
    }
   ],
   "source": [
    "notlar = \"1245661276991\"\n",
    "notlar = list(notlar)\n",
    "print(notlar)"
   ],
   "metadata": {
    "collapsed": false,
    "pycharm": {
     "name": "#%%\n",
     "is_executing": false
    }
   }
  },
  {
   "cell_type": "markdown",
   "source": [
    "## İç İçe Liste\n",
    "Listeler içinde başka bir liste barındırabilir.\n"
   ],
   "metadata": {
    "collapsed": false,
    "pycharm": {
     "name": "#%% md\n"
    }
   }
  },
  {
   "cell_type": "code",
   "execution_count": 42,
   "outputs": [
    {
     "name": "stdout",
     "text": [
      "8\n"
     ],
     "output_type": "stream"
    }
   ],
   "source": [
    "liste = [\"Yönetim\", \"Bilişim\", \"Sistemleri\",[54,45,62], 65, 22, 33,3.6]\n",
    "print(len(liste))"
   ],
   "metadata": {
    "collapsed": false,
    "pycharm": {
     "name": "#%%\n",
     "is_executing": false
    }
   }
  },
  {
   "cell_type": "markdown",
   "source": [
    "Çıktıyı incelediğimizde liste içerisinde yer alan listenin elemanları toplamıyla değil tek bir öğe olarak sayılmıştır. Liste içerisinde bulunan\n",
    "başka bir listeye ulaşmak için;\n"
   ],
   "metadata": {
    "collapsed": false
   }
  },
  {
   "cell_type": "code",
   "execution_count": 43,
   "outputs": [
    {
     "data": {
      "text/plain": "45"
     },
     "metadata": {},
     "output_type": "execute_result",
     "execution_count": 43
    }
   ],
   "source": [
    "liste[3][1]"
   ],
   "metadata": {
    "collapsed": false,
    "pycharm": {
     "name": "#%%\n",
     "is_executing": false
    }
   }
  },
  {
   "cell_type": "markdown",
   "source": [
    "komutu kullanılabilir.\n",
    "\n",
    "## Liste Manipülasyonları \n",
    "Listelerden eleman çıkarma işlemi için **pop**, **remove**, ve **del** method ve fonksiyonları bulunmaktadır.\n",
    " - **pop** Listeden eğer parametre belirtilmez ise son elemanı siler ve sildiği değeri geri döndürür.\n",
    " "
   ],
   "metadata": {
    "collapsed": false
   }
  },
  {
   "cell_type": "code",
   "execution_count": 44,
   "outputs": [
    {
     "name": "stdout",
     "text": [
      "3.6\n"
     ],
     "output_type": "stream"
    }
   ],
   "source": [
    "liste = [\"Yönetim\", \"Bilişim\", \"Sistemleri\",[54,45,62], 65, 22, 33,3.6]\n",
    "silinen_deger = liste.pop()\n",
    "print(silinen_deger)"
   ],
   "metadata": {
    "collapsed": false,
    "pycharm": {
     "name": "#%%\n",
     "is_executing": false
    }
   }
  },
  {
   "cell_type": "code",
   "execution_count": 45,
   "outputs": [
    {
     "name": "stdout",
     "text": [
      "Bilişim\n"
     ],
     "output_type": "stream"
    }
   ],
   "source": [
    "silinen_deger = liste.pop(1)\n",
    "print(silinen_deger)"
   ],
   "metadata": {
    "collapsed": false,
    "pycharm": {
     "name": "#%%\n",
     "is_executing": false
    }
   }
  },
  {
   "cell_type": "markdown",
   "source": [
    "- **remove** Metodunun pop metodundan farkı index değeriyle değilde doğrudan silinecek olan objeyi referans vermemizdir.\n",
    "Silinen değeri/objeyi değil listenin yeni halini döndürür."
   ],
   "metadata": {
    "collapsed": false
   }
  },
  {
   "cell_type": "code",
   "execution_count": 46,
   "outputs": [
    {
     "name": "stdout",
     "text": [
      "['Yönetim', 'Sistemleri', [54, 45, 62], 65, 22, 33]\n['Yönetim', [54, 45, 62], 65, 22, 33]\n"
     ],
     "output_type": "stream"
    }
   ],
   "source": [
    "print(liste)\n",
    "liste.remove(\"Sistemleri\")\n",
    "print(liste)"
   ],
   "metadata": {
    "collapsed": false,
    "pycharm": {
     "name": "#%%\n",
     "is_executing": false
    }
   }
  },
  {
   "cell_type": "markdown",
   "source": [
    " - **del** Listeden belirli bir veriyi yada aralığı siler."
   ],
   "metadata": {
    "collapsed": false
   }
  },
  {
   "cell_type": "code",
   "execution_count": 47,
   "outputs": [
    {
     "name": "stdout",
     "text": [
      "['Yönetim', [54, 45, 62], 65, 22, 33]\n[[54, 45, 62], 65, 22, 33]\n"
     ],
     "output_type": "stream"
    }
   ],
   "source": [
    "print(liste) #Eski Hali\n",
    "del liste[0]\n",
    "print(liste) #Yeni Hali"
   ],
   "metadata": {
    "collapsed": false,
    "pycharm": {
     "name": "#%%\n",
     "is_executing": false
    }
   }
  },
  {
   "cell_type": "markdown",
   "source": [
    "## count, index ve sort Metodları:\n",
    " - **count** Bir objenin bir liste içerisinde kaç defa tekrar ettiğini bulur."
   ],
   "metadata": {
    "collapsed": false
   }
  },
  {
   "cell_type": "code",
   "execution_count": 48,
   "outputs": [
    {
     "name": "stdout",
     "text": [
      "2\n"
     ],
     "output_type": "stream"
    }
   ],
   "source": [
    "liste = [\"Yönetim\", \"Bilişim\", \"Bilişim\", \"Sistemleri\",[54,45,62], 65, 22, 33,3.6]\n",
    "print(liste.count(\"Bilişim\"))"
   ],
   "metadata": {
    "collapsed": false,
    "pycharm": {
     "name": "#%%\n",
     "is_executing": false
    }
   }
  },
  {
   "cell_type": "markdown",
   "source": [
    " - **index** Bir objenin liste içerisinde hangi index numarasıyla yer aldığını bulur."
   ],
   "metadata": {
    "collapsed": false,
    "pycharm": {
     "name": "#%% md\n"
    }
   }
  },
  {
   "cell_type": "code",
   "execution_count": 49,
   "outputs": [
    {
     "name": "stdout",
     "text": [
      "3\n"
     ],
     "output_type": "stream"
    }
   ],
   "source": [
    "print(liste.index(\"Sistemleri\"))"
   ],
   "metadata": {
    "collapsed": false,
    "pycharm": {
     "name": "#%%\n",
     "is_executing": false
    }
   }
  },
  {
   "cell_type": "markdown",
   "source": [
    " - **sort**  Listeyi sıralamamızı sağlar"
   ],
   "metadata": {
    "collapsed": false,
    "pycharm": {
     "name": "#%% md\n"
    }
   }
  },
  {
   "cell_type": "code",
   "execution_count": 2,
   "outputs": [
    {
     "name": "stdout",
     "text": [
      "['Bilişim', 'Sistemleri', 'Yönetim']\n"
     ],
     "output_type": "stream"
    }
   ],
   "source": [
    "liste_1 = [\"Yönetim\",\"Bilişim\",\"Sistemleri\"]\n",
    "liste_1.sort()\n",
    "print(liste_1)"
   ],
   "metadata": {
    "collapsed": false,
    "pycharm": {
     "name": "#%%\n",
     "is_executing": false
    }
   }
  },
  {
   "cell_type": "code",
   "execution_count": 3,
   "outputs": [
    {
     "name": "stdout",
     "text": [
      "[45, 15, 12, 3, 2]\n"
     ],
     "output_type": "stream"
    }
   ],
   "source": [
    "liste_2 = [15,12,3,45,2]\n",
    "liste_2.sort()\n",
    "liste_2.reverse() # Bir listeyi tersine çeviren metod \n",
    "print(liste_2)"
   ],
   "metadata": {
    "collapsed": false,
    "pycharm": {
     "name": "#%%\n",
     "is_executing": false
    }
   }
  },
  {
   "cell_type": "markdown",
   "source": [
    "## Listeleri Birleştirmek \n",
    "\n",
    "**Örnek:** İki farklı şirket tek bir çatı altında birleşme kararı almış ve müşterilerini \n",
    "birleştirek yeni oluşturdukları veri tabanına yazmak istiorlar. Bunun için ilk önce listeleri \n",
    "birleştirmeleri gerekmektedir. çözüme alternatif olarak **extend** metodu da bu işi yapmaktadır."
   ],
   "metadata": {
    "collapsed": false
   }
  },
  {
   "cell_type": "code",
   "execution_count": 7,
   "outputs": [
    {
     "name": "stdout",
     "text": [
      "['Ertuğrul', 'Faysal']\n"
     ],
     "output_type": "stream"
    }
   ],
   "source": [
    "a_sirket_musterileri = [\"Ertuğrul\",\"Faysal\"]\n",
    "print(a_sirket_musterileri)"
   ],
   "metadata": {
    "collapsed": false,
    "pycharm": {
     "name": "#%%\n",
     "is_executing": false
    }
   }
  },
  {
   "cell_type": "code",
   "execution_count": 8,
   "outputs": [
    {
     "name": "stdout",
     "text": [
      "['Eda', 'Yasin', 'Fatma']\n"
     ],
     "output_type": "stream"
    }
   ],
   "source": [
    "b_sirket_musterileri = [\"Eda\",\"Yasin\",\"Fatma\"]\n",
    "print(b_sirket_musterileri)"
   ],
   "metadata": {
    "collapsed": false,
    "pycharm": {
     "name": "#%%\n",
     "is_executing": false
    }
   }
  },
  {
   "cell_type": "code",
   "execution_count": 9,
   "outputs": [
    {
     "name": "stdout",
     "text": [
      "['Ertuğrul', 'Faysal', 'Eda', 'Yasin', 'Fatma']\n"
     ],
     "output_type": "stream"
    }
   ],
   "source": [
    "yeni_musteriler = a_sirket_musterileri + b_sirket_musterileri\n",
    "print(yeni_musteriler)\n"
   ],
   "metadata": {
    "collapsed": false,
    "pycharm": {
     "name": "#%%\n",
     "is_executing": false
    }
   }
  },
  {
   "cell_type": "markdown",
   "source": [
    "## Listeleri Kopyalamak\n",
    "**Örnek:** Bir işletme müşteri isimlerinin bulunduğu listenin üzerinde pazarlama çalışmalarını \n",
    "yürütmek istemektedir, ortaya çıkabilicek bir aksilik için orjinal listenin yedeğini almak istemektedir"
   ],
   "metadata": {
    "collapsed": false,
    "pycharm": {
     "name": "#%% md\n"
    }
   }
  },
  {
   "cell_type": "code",
   "execution_count": 17,
   "outputs": [],
   "source": [
    "musteri_listesi = [\"Ahmet\", \"Alper\", \"Büşra\",\"Ceyhun\",\"Deniz\"]\n",
    "yedek_musteri_listesi = musteri_listesi "
   ],
   "metadata": {
    "collapsed": false,
    "pycharm": {
     "name": "#%% \n",
     "is_executing": false
    }
   }
  },
  {
   "cell_type": "markdown",
   "source": [
    "Yapılan bir hata sonucu müşteri listesinin son üç kaydı kaybolmuştur. Yedek müşteri listesine dönülmek istenmektedir."
   ],
   "metadata": {
    "collapsed": false,
    "pycharm": {
     "name": "#%% md\n"
    }
   }
  },
  {
   "cell_type": "code",
   "source": [
    "del musteri_listesi[2:] # == [-3:]\n",
    "print(musteri_listesi)"
   ],
   "metadata": {
    "collapsed": false,
    "pycharm": {
     "name": "#%%\n",
     "is_executing": false
    }
   },
   "execution_count": 18,
   "outputs": [
    {
     "name": "stdout",
     "text": [
      "['Ahmet', 'Alper']\n"
     ],
     "output_type": "stream"
    }
   ]
  },
  {
   "cell_type": "code",
   "execution_count": 23,
   "outputs": [
    {
     "name": "stdout",
     "text": [
      "['Ahmet', 'Alper']\n"
     ],
     "output_type": "stream"
    }
   ],
   "source": [
    "print(yedek_musteri_listesi)\n"
   ],
   "metadata": {
    "collapsed": false,
    "pycharm": {
     "name": "#%%\n",
     "is_executing": false
    }
   }
  },
  {
   "cell_type": "markdown",
   "source": [
    "Ancak yedek listesine dönülmek istendiğinde ise son üç kaydın bu listeden de silindiği görülmektedir. Bunun sebebi oluşturduğumuz yedeğin aslında \n",
    "müşteri_listesini yanlızca referans göstermesidir. Burada gerçekleşen durumu aşabilmek için listemizi kopyalarken baştan oluşturmamız gerekmektedir. Çözüme alternatif olarak **copy** metodu kullanılabilir."
   ],
   "metadata": {
    "collapsed": false
   }
  },
  {
   "cell_type": "code",
   "execution_count": 24,
   "outputs": [
    {
     "data": {
      "text/plain": "1392546433672"
     },
     "metadata": {},
     "output_type": "execute_result",
     "execution_count": 24
    }
   ],
   "source": [
    "id(yedek_musteri_listesi) "
   ],
   "metadata": {
    "collapsed": false,
    "pycharm": {
     "name": "#%%\n",
     "is_executing": false
    }
   }
  },
  {
   "cell_type": "code",
   "execution_count": 26,
   "outputs": [
    {
     "data": {
      "text/plain": "1392546433672"
     },
     "metadata": {},
     "output_type": "execute_result",
     "execution_count": 26
    }
   ],
   "source": [
    "id(musteri_listesi) ## İki değişkenimiz aslında ram'de aynı değişkenlermiş!"
   ],
   "metadata": {
    "collapsed": false,
    "pycharm": {
     "name": "#%%\n",
     "is_executing": false
    }
   }
  },
  {
   "cell_type": "code",
   "execution_count": 27,
   "outputs": [
    {
     "name": "stdout",
     "text": [
      "['Ahmet', 'Alper', 'Büşra', 'Ceyhun', 'Deniz']\n"
     ],
     "output_type": "stream"
    }
   ],
   "source": [
    "musteri_listesi = [\"Ahmet\", \"Alper\", \"Büşra\",\"Ceyhun\",\"Deniz\"]\n",
    "yedek_musteri_listesi = musteri_listesi[:] # Doğrudan referans değil, yorumlayıcı listeyi yeniden oluşturmaya zorlanıyor\n",
    "del musteri_listesi[-3:]\n",
    "print(yedek_musteri_listesi)"
   ],
   "metadata": {
    "collapsed": false,
    "pycharm": {
     "name": "#%%\n",
     "is_executing": false
    }
   }
  },
  {
   "cell_type": "code",
   "execution_count": 29,
   "outputs": [
    {
     "data": {
      "text/plain": "1392547463240"
     },
     "metadata": {},
     "output_type": "execute_result",
     "execution_count": 29
    }
   ],
   "source": [
    "id(musteri_listesi)"
   ],
   "metadata": {
    "collapsed": false,
    "pycharm": {
     "name": "#%%\n",
     "is_executing": false
    }
   }
  },
  {
   "cell_type": "code",
   "execution_count": 28,
   "outputs": [
    {
     "data": {
      "text/plain": "1392547414088"
     },
     "metadata": {},
     "output_type": "execute_result",
     "execution_count": 28
    }
   ],
   "source": [
    "id(yedek_musteri_listesi)\n"
   ],
   "metadata": {
    "collapsed": false,
    "pycharm": {
     "name": "#%%\n",
     "is_executing": false
    }
   }
  }
 ],
 "metadata": {
  "kernelspec": {
   "display_name": "Python 3",
   "language": "python",
   "name": "python3"
  },
  "language_info": {
   "codemirror_mode": {
    "name": "ipython",
    "version": 2
   },
   "file_extension": ".py",
   "mimetype": "text/x-python",
   "name": "python",
   "nbconvert_exporter": "python",
   "pygments_lexer": "ipython2",
   "version": "2.7.6"
  },
  "pycharm": {
   "stem_cell": {
    "cell_type": "raw",
    "source": [],
    "metadata": {
     "collapsed": false
    }
   }
  }
 },
 "nbformat": 4,
 "nbformat_minor": 0
}