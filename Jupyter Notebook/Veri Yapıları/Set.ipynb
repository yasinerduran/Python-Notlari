{
 "cells": [
  {
   "cell_type": "markdown",
   "source": [
    "# Set (Küme) Veri Yapısı\n",
    "\n",
    "Python dilimde değiştirilebilir(muble) veri yapılarından olan küme her nesnesini içerisinde eşsiz ve sırasız olarak barındırır.\n",
    "Ayrıca kümeler(matematiğin bir konusu olan) üzerinde  gerçekleştirebileceğimiz kesişim, birleşim ve fark gibi işlemleri \n",
    "yapabilmemize olanak tanır. Örnek bir küme tanımı aşağıda verilmiştir;"
   ],
   "metadata": {
    "collapsed": false
   }
  },
  {
   "cell_type": "code",
   "execution_count": 8,
   "outputs": [
    {
     "name": "stdout",
     "text": [
      "{'Yumurta', 'Ekmek', 'Makarna', 'Süt'}\n"
     ],
     "output_type": "stream"
    }
   ],
   "source": [
    "sepet = [\"Ekmek\",\"Ekmek\",\"Süt\",\"Yumurta\",\"Makarna\",\"Makarna\",\"Makarna\"]\n",
    "sepette_bulunan_urunler = set(sepet) #Küme yapısı oluşturma\n",
    "print(sepette_bulunan_urunler)"
   ],
   "metadata": {
    "collapsed": false,
    "pycharm": {
     "name": "#%%\n",
     "is_executing": false
    }
   }
  },
  {
   "cell_type": "markdown",
   "source": [
    "Bir kümeye eleman eklenirken **add()** metodu kullanılır. Eğer eklenen nesne küme içerisinde mevcut ise herhangi bir değişiklik gerçekleşmez.\n"
   ],
   "metadata": {
    "collapsed": false
   }
  },
  {
   "cell_type": "code",
   "execution_count": 9,
   "outputs": [
    {
     "name": "stdout",
     "text": [
      "{'Yağ', 'Ekmek', 'Makarna', 'Yumurta', 'Süt'}\n"
     ],
     "output_type": "stream"
    }
   ],
   "source": [
    "sepette_bulunan_urunler.add(\"Yağ\")\n",
    "print(sepette_bulunan_urunler)"
   ],
   "metadata": {
    "collapsed": false,
    "pycharm": {
     "name": "#%%\n",
     "is_executing": false
    }
   }
  },
  {
   "cell_type": "code",
   "execution_count": 10,
   "outputs": [
    {
     "name": "stdout",
     "text": [
      "{'Yağ', 'Ekmek', 'Makarna', 'Yumurta', 'Süt'}\n"
     ],
     "output_type": "stream"
    }
   ],
   "source": [
    "sepette_bulunan_urunler.add(\"Ekmek\")\n",
    "print(sepette_bulunan_urunler)"
   ],
   "metadata": {
    "collapsed": false,
    "pycharm": {
     "name": "#%%\n",
     "is_executing": false
    }
   }
  },
  {
   "cell_type": "markdown",
   "source": [
    "Kümeye birden çok eleman eklemek için **update()** metodu kullanılır.\n"
   ],
   "metadata": {
    "collapsed": false
   }
  },
  {
   "cell_type": "code",
   "execution_count": 14,
   "outputs": [
    {
     "name": "stdout",
     "text": [
      "{'Yağ', 'Ekmek', 'Makarna', 'Yumurta', 'Meyve', 'Dergi', 'Süt'}\n"
     ],
     "output_type": "stream"
    }
   ],
   "source": [
    "sepette_bulunan_urunler.update([\"Meyve\",\"Dergi\",\"Ekmek\"])\n",
    "print(sepette_bulunan_urunler)"
   ],
   "metadata": {
    "collapsed": false,
    "pycharm": {
     "name": "#%%\n",
     "is_executing": false
    }
   }
  },
  {
   "cell_type": "markdown",
   "source": [
    "kümeden bir eleman çıkartmak için **discard()** metodu kullanılır. \n"
   ],
   "metadata": {
    "collapsed": false,
    "pycharm": {
     "name": "#%% md\n"
    }
   }
  },
  {
   "cell_type": "code",
   "execution_count": 15,
   "outputs": [
    {
     "name": "stdout",
     "text": [
      "{'Yağ', 'Makarna', 'Yumurta', 'Meyve', 'Dergi', 'Süt'}\n"
     ],
     "output_type": "stream"
    }
   ],
   "source": [
    "sepette_bulunan_urunler.discard(\"Ekmek\")\n",
    "print(sepette_bulunan_urunler)"
   ],
   "metadata": {
    "collapsed": false,
    "pycharm": {
     "name": "#%%\n",
     "is_executing": false
    }
   }
  },
  {
   "cell_type": "markdown",
   "source": [
    "Kümeden eleman çıkartmak için kullanabileceğimiz bir diğer farklı metod da **pop()**'dur ancak pop kümeden rastgele bir elemanı çıkartır ve çıkarttığı elamanı geri döndürür."
   ],
   "metadata": {
    "collapsed": false
   }
  },
  {
   "cell_type": "code",
   "execution_count": 17,
   "outputs": [
    {
     "name": "stdout",
     "text": [
      "Yağ\n"
     ],
     "output_type": "stream"
    }
   ],
   "source": [
    "cıkartılan_urun = sepette_bulunan_urunler.pop()\n",
    "print(cıkartılan_urun)\n"
   ],
   "metadata": {
    "collapsed": false,
    "pycharm": {
     "name": "#%%\n",
     "is_executing": false
    }
   }
  },
  {
   "cell_type": "markdown",
   "source": [
    "Elimizde iki ayrı alışveriş sepeti listesi olduğunu düşünelim. Bu iki sepettin birleşimini bulmak için **union()** metodu kullanılır. "
   ],
   "metadata": {
    "collapsed": false
   }
  },
  {
   "cell_type": "code",
   "execution_count": 23,
   "outputs": [
    {
     "name": "stdout",
     "text": [
      "{'Dergi', 'Yağ', 'Ekmek', 'Gazete'}\n"
     ],
     "output_type": "stream"
    }
   ],
   "source": [
    "sepet_1 = [\"Ekmek\",\"Dergi\",\"Gazete\",\"Yağ\"]\n",
    "sepet_1 = set(sepet_1)\n",
    "print(sepet_1)"
   ],
   "metadata": {
    "collapsed": false,
    "pycharm": {
     "name": "#%%\n",
     "is_executing": false
    }
   }
  },
  {
   "cell_type": "code",
   "execution_count": 24,
   "outputs": [
    {
     "name": "stdout",
     "text": [
      "{'Yağ', 'Ekmek', 'Makarna', 'Peynir', 'Tuz'}\n"
     ],
     "output_type": "stream"
    }
   ],
   "source": [
    "sepet_2 = [\"Yağ\",\"Makarna\",\"Tuz\",\"Ekmek\",\"Peynir\"]\n",
    "sepet_2 = set(sepet_2)\n",
    "print(sepet_2)"
   ],
   "metadata": {
    "collapsed": false,
    "pycharm": {
     "name": "#%%\n",
     "is_executing": false
    }
   }
  },
  {
   "cell_type": "code",
   "execution_count": 26,
   "outputs": [
    {
     "name": "stdout",
     "text": [
      "{'Yağ', 'Ekmek', 'Gazete', 'Makarna', 'Peynir', 'Dergi', 'Tuz'}\n"
     ],
     "output_type": "stream"
    }
   ],
   "source": [
    "birlesim = sepet_1.union(sepet_2)\n",
    "print(birlesim)"
   ],
   "metadata": {
    "collapsed": false,
    "pycharm": {
     "name": "#%%\n",
     "is_executing": false
    }
   }
  },
  {
   "cell_type": "markdown",
   "source": [
    "Elimizde bulunan iki alışveriş sepetindeki keşimi bulmak için **intersection()** metodu kullanılır."
   ],
   "metadata": {
    "collapsed": false
   }
  },
  {
   "cell_type": "code",
   "execution_count": 27,
   "outputs": [
    {
     "name": "stdout",
     "text": [
      "{'Yağ', 'Ekmek'}\n"
     ],
     "output_type": "stream"
    }
   ],
   "source": [
    "kesisim = sepet_1.intersection(sepet_2)\n",
    "print(kesisim)"
   ],
   "metadata": {
    "collapsed": false,
    "pycharm": {
     "name": "#%%\n",
     "is_executing": false
    }
   }
  },
  {
   "cell_type": "markdown",
   "source": [
    "Son olarak iki kümenin farkını bulmak için ise **differance()** metodu kullanılır."
   ],
   "metadata": {
    "collapsed": false
   }
  },
  {
   "cell_type": "code",
   "execution_count": 28,
   "outputs": [
    {
     "name": "stdout",
     "text": [
      "{'Dergi', 'Gazete'}\n"
     ],
     "output_type": "stream"
    }
   ],
   "source": [
    "farklar = sepet_1.difference(sepet_2)\n",
    "print(farklar)\n"
   ],
   "metadata": {
    "collapsed": false,
    "pycharm": {
     "name": "#%%\n",
     "is_executing": false
    }
   }
  }
 ],
 "metadata": {
  "kernelspec": {
   "display_name": "Python 3",
   "language": "python",
   "name": "python3"
  },
  "language_info": {
   "codemirror_mode": {
    "name": "ipython",
    "version": 2
   },
   "file_extension": ".py",
   "mimetype": "text/x-python",
   "name": "python",
   "nbconvert_exporter": "python",
   "pygments_lexer": "ipython2",
   "version": "2.7.6"
  },
  "pycharm": {
   "stem_cell": {
    "cell_type": "raw",
    "source": [],
    "metadata": {
     "collapsed": false
    }
   }
  }
 },
 "nbformat": 4,
 "nbformat_minor": 0
}