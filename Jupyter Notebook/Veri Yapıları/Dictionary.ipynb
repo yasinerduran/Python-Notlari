{
 "cells": [
  {
   "cell_type": "markdown",
   "source": [
    "# Dictionary(Sözlük) Veri Yapısı\n",
    "Sözlükler anahtar (Key) ve değer (value) ikilisinin birbirleriyle eşleştirildiği bir \n",
    "veri tipidir.Listeler yanlızca {} parantez ifadesi ile oluşturulabileceği gibi dict() fonksiyonu \n",
    "ile de oluşturulabilirler."
   ],
   "metadata": {
    "collapsed": false
   }
  },
  {
   "cell_type": "code",
   "execution_count": 4,
   "outputs": [
    {
     "name": "stdout",
     "text": [
      "{'anahtar': 'değer', 'Mehmet': 26}\n{'anahtar': 'değer', 'Mehmet': 26}\n"
     ],
     "output_type": "stream"
    }
   ],
   "source": [
    "sozluk = {\n",
    "    \"anahtar\":\"değer\",\n",
    "    \"Mehmet\":26\n",
    "}\n",
    "print(sozluk)\n",
    "\n",
    "sozluk = dict({\n",
    "    \"anahtar\":\"değer\",\n",
    "    \"Mehmet\":26\n",
    "})\n",
    "print(sozluk)"
   ],
   "metadata": {
    "collapsed": false,
    "pycharm": {
     "name": "#%%\n",
     "is_executing": false
    }
   }
  },
  {
   "cell_type": "markdown",
   "source": [
    "**Örnek** Haftada bulunan günlerin sıraları:"
   ],
   "metadata": {
    "collapsed": false
   }
  },
  {
   "cell_type": "code",
   "source": [
    "hafta = {\n",
    "    \"Pazartesi\":1,\n",
    "    \"Salı\":2,\n",
    "    \"Çarşamba\":3,\n",
    "    \"Perşembe\":4,\n",
    "    \"Cuma\":5,\n",
    "    \"Cumartesi\":6,\n",
    "}\n",
    "hafta[\"Çarşamba\"]"
   ],
   "metadata": {
    "collapsed": false,
    "pycharm": {
     "name": "#%%\n",
     "is_executing": false
    }
   },
   "execution_count": 11,
   "outputs": [
    {
     "data": {
      "text/plain": "3"
     },
     "metadata": {},
     "output_type": "execute_result",
     "execution_count": 11
    }
   ]
  },
  {
   "cell_type": "markdown",
   "source": [
    "Bir anahtarın bir sözlük içerisinde bulunup bulunmadığını öğrenmek için **in** koşul ifadesi kullanılabilir.\n"
   ],
   "metadata": {
    "collapsed": false
   }
  },
  {
   "cell_type": "code",
   "execution_count": 12,
   "outputs": [
    {
     "data": {
      "text/plain": "True"
     },
     "metadata": {},
     "output_type": "execute_result",
     "execution_count": 12
    }
   ],
   "source": [
    "\"Pazartesi\" in hafta"
   ],
   "metadata": {
    "collapsed": false,
    "pycharm": {
     "name": "#%%\n",
     "is_executing": false
    }
   }
  },
  {
   "cell_type": "code",
   "execution_count": 13,
   "outputs": [
    {
     "data": {
      "text/plain": "False"
     },
     "metadata": {},
     "output_type": "execute_result",
     "execution_count": 13
    }
   ],
   "source": [
    "\"Ocak\" in hafta"
   ],
   "metadata": {
    "collapsed": false,
    "pycharm": {
     "name": "#%%\n",
     "is_executing": false
    }
   }
  },
  {
   "cell_type": "markdown",
   "source": [
    "Duruma göre **in** koşulunun başına olumsuz anlamında **not** yardımcı koşulu getirilebilir.\n",
    " "
   ],
   "metadata": {
    "collapsed": false
   }
  },
  {
   "cell_type": "code",
   "execution_count": 14,
   "outputs": [
    {
     "data": {
      "text/plain": "False"
     },
     "metadata": {},
     "output_type": "execute_result",
     "execution_count": 14
    }
   ],
   "source": [
    "\"Pazartesi\" not in hafta"
   ],
   "metadata": {
    "collapsed": false,
    "pycharm": {
     "name": "#%%\n",
     "is_executing": false
    }
   }
  },
  {
   "cell_type": "markdown",
   "source": [
    "Sözlüğe yeni değerler atanabilir. Bu işlem için sözlükte olmayan bir anahtar değerine bir atama işlemi gerçekleştirilir.\n",
    "Eğer var olan bir anahtar üzerinde bir atama işlemi yaparsak bu o anahtar değerini güncelleyecektir.\n"
   ],
   "metadata": {
    "collapsed": false,
    "pycharm": {
     "name": "#%% md\n"
    }
   }
  },
  {
   "cell_type": "code",
   "execution_count": 15,
   "outputs": [
    {
     "data": {
      "text/plain": "7"
     },
     "metadata": {},
     "output_type": "execute_result",
     "execution_count": 15
    }
   ],
   "source": [
    "\n",
    "hafta[\"Pazar\"] = 7\n",
    "hafta[\"Pazar\"]"
   ],
   "metadata": {
    "collapsed": false,
    "pycharm": {
     "name": "#%%\n",
     "is_executing": false
    }
   }
  },
  {
   "cell_type": "markdown",
   "source": [
    "Eğer sözlük içerisinde bulunmayan bir anahtar değerine ulaşmaya çalışırsak Python bize bir hata mesajı döndürecektir."
   ],
   "metadata": {
    "collapsed": false
   }
  },
  {
   "cell_type": "code",
   "execution_count": 16,
   "outputs": [
    {
     "traceback": [
      "\u001b[1;31m---------------------------------------------------------------------------\u001b[0m",
      "\u001b[1;31mKeyError\u001b[0m                                  Traceback (most recent call last)",
      "\u001b[1;32m<ipython-input-16-bf90dcf943bf>\u001b[0m in \u001b[0;36m<module>\u001b[1;34m\u001b[0m\n\u001b[1;32m----> 1\u001b[1;33m \u001b[0mhafta\u001b[0m\u001b[1;33m[\u001b[0m\u001b[1;34m\"Ocak\"\u001b[0m\u001b[1;33m]\u001b[0m\u001b[1;33m\u001b[0m\u001b[0m\n\u001b[0m",
      "\u001b[1;31mKeyError\u001b[0m: 'Ocak'"
     ],
     "ename": "KeyError",
     "evalue": "'Ocak'",
     "output_type": "error"
    }
   ],
   "source": [
    "hafta[\"Ocak\"]"
   ],
   "metadata": {
    "collapsed": false,
    "pycharm": {
     "name": "#%%\n",
     "is_executing": false
    }
   }
  },
  {
   "cell_type": "markdown",
   "source": [
    "Eğer bu hata ile karşılaşmak istemiyor isek **get** metodu kullanabiliriz. Get fonksiyonu öncelikle sözlüğün \n",
    "içerisinde anahtar değeri arayacak yanlızca var ise getirecektir. Eğer anahtar sözlük içerisinde yok ise karşılık değeri\n",
    "**None** olarak dönecektir."
   ],
   "metadata": {
    "collapsed": false
   }
  },
  {
   "cell_type": "code",
   "execution_count": 18,
   "outputs": [
    {
     "name": "stdout",
     "text": [
      "None\n"
     ],
     "output_type": "stream"
    }
   ],
   "source": [
    "print(hafta.get(\"Ocak\"))"
   ],
   "metadata": {
    "collapsed": false,
    "pycharm": {
     "name": "#%%\n",
     "is_executing": false
    }
   }
  },
  {
   "cell_type": "markdown",
   "source": [
    "Sözlük üzerine yeni anahtar değer çifti eklemenin diğer bir yolu ise **update** metodudur."
   ],
   "metadata": {
    "collapsed": false
   }
  },
  {
   "cell_type": "code",
   "execution_count": 21,
   "outputs": [
    {
     "data": {
      "text/plain": "{'Şubat': 2, 'Mart': 3, 'Ocak': 1}"
     },
     "metadata": {},
     "output_type": "execute_result",
     "execution_count": 21
    }
   ],
   "source": [
    "aylar = dict({\"Şubat\":2,\"Mart\":3})\n",
    "aylar.update({\"Ocak\":1})\n",
    "aylar"
   ],
   "metadata": {
    "collapsed": false,
    "pycharm": {
     "name": "#%%\n",
     "is_executing": false
    }
   }
  },
  {
   "cell_type": "markdown",
   "source": [
    "Sözlük veri yapısında değer başka bir sözlük yapısına, listeye yada kümeye karşılık olabilir."
   ],
   "metadata": {
    "collapsed": false
   }
  },
  {
   "cell_type": "code",
   "execution_count": 24,
   "outputs": [],
   "source": [
    "cv = {\n",
    "    \"Aylin\":{\n",
    "        \"Soyisim\":\"Ertürk\",\n",
    "        \"Beceriler\":(\"C#\", \"Python\", \"Mobil Programlama\"),\n",
    "        \"Daha Önceki İş Tecrübeleri\":[\"Arena Bilişim\", \"DHT Lojistik\", \"Trendyol\"],\n",
    "        \"Yaş\":24\n",
    "    },\n",
    "    \"Ömer\":{\n",
    "        \"Soyisim\":\"Keser\",\n",
    "        \"Beceriler\":(\"PHP\", \"Larave\", \"Mobil Programlama\", \"RestAPI\"),\n",
    "        \"Daha Önceki İş Tecrübeleri\":[\"Google\", \"Çelmo Mobilya\" ],\n",
    "        \"Yaş\":27\n",
    "    },\n",
    "    \"Deniz\":{\n",
    "        \"Soyisim\":\"Metin\",\n",
    "        \"Beceriler\":(\"C#\", \"RestAPI\", \"Mobil Programlama\"),\n",
    "        \"Daha Önceki İş Tecrübeleri\":[\"Microsoft\", \"CD Project\", \"HP\"],\n",
    "        \"Yaş\":34\n",
    "    }\n",
    "}"
   ],
   "metadata": {
    "collapsed": false,
    "pycharm": {
     "name": "#%%\n",
     "is_executing": false
    }
   }
  },
  {
   "cell_type": "markdown",
   "source": [
    "Sözlük yapısından veri silmek için **del** fonksiyonundan yararlanılabilir. Örneğin cv sözlüğünden ömer adlı adayı\n",
    "çıkarmak istediğimizde;"
   ],
   "metadata": {
    "collapsed": false
   }
  },
  {
   "cell_type": "code",
   "execution_count": 25,
   "outputs": [
    {
     "traceback": [
      "\u001b[1;31m---------------------------------------------------------------------------\u001b[0m",
      "\u001b[1;31mKeyError\u001b[0m                                  Traceback (most recent call last)",
      "\u001b[1;32m<ipython-input-25-0d0a1a8acbd1>\u001b[0m in \u001b[0;36m<module>\u001b[1;34m\u001b[0m\n\u001b[1;32m----> 1\u001b[1;33m \u001b[1;32mdel\u001b[0m \u001b[1;33m(\u001b[0m\u001b[0mcv\u001b[0m\u001b[1;33m[\u001b[0m\u001b[1;34m\"Omer\"\u001b[0m\u001b[1;33m]\u001b[0m\u001b[1;33m)\u001b[0m\u001b[1;33m\u001b[0m\u001b[0m\n\u001b[0m",
      "\u001b[1;31mKeyError\u001b[0m: 'Omer'"
     ],
     "ename": "KeyError",
     "evalue": "'Omer'",
     "output_type": "error"
    }
   ],
   "source": [
    "del (cv[\"Omer\"])"
   ],
   "metadata": {
    "collapsed": false,
    "pycharm": {
     "name": "#%%\n",
     "is_executing": false
    }
   }
  },
  {
   "cell_type": "markdown",
   "source": [
    "Eğer del fonksiyonu ile sözlükte olamayan bir anahtar değerini silmek isterseniz bir hatayla karşılaşırsınız. Yukarıda\n",
    "gördüğümüz örnekte Sözlükte **Ömer** anahtar adıyla kayıtlı olan anhtarı **Omer** olarak silmeye kalkıştık. Bu tür durumları\n",
    "engellemenin en iyi yolu **pop** metodunu kullanmaktır."
   ],
   "metadata": {
    "collapsed": false
   }
  },
  {
   "cell_type": "code",
   "execution_count": 26,
   "outputs": [
    {
     "data": {
      "text/plain": "{'Soyisim': 'Keser',\n 'Beceriler': ('PHP', 'Larave', 'Mobil Programlama', 'RestAPI'),\n 'Daha Önceki İş Tecrübeleri': ['Google', 'Çelmo Mobilya'],\n 'Yaş': 27}"
     },
     "metadata": {},
     "output_type": "execute_result",
     "execution_count": 26
    }
   ],
   "source": [
    "cv.pop(\"Ömer\")"
   ],
   "metadata": {
    "collapsed": false,
    "pycharm": {
     "name": "#%%\n",
     "is_executing": false
    }
   }
  },
  {
   "cell_type": "markdown",
   "source": [
    "Diger veri türlerinde olduğu gibi pop burada da veriyi sildikten sonra değeri bize döndürdü. Eğer yanlızca sözlüğümüzün \n",
    "barındırdığı anahtar değerlere ulaşmak istersek **keys** metodunu kullanabiliriz."
   ],
   "metadata": {
    "collapsed": false
   }
  },
  {
   "cell_type": "code",
   "execution_count": 29,
   "outputs": [
    {
     "data": {
      "text/plain": "dict_keys(['Aylin', 'Deniz'])"
     },
     "metadata": {},
     "output_type": "execute_result",
     "execution_count": 29
    }
   ],
   "source": [
    "cv.keys()"
   ],
   "metadata": {
    "collapsed": false,
    "pycharm": {
     "name": "#%%\n",
     "is_executing": false
    }
   }
  },
  {
   "cell_type": "code",
   "execution_count": 30,
   "outputs": [
    {
     "data": {
      "text/plain": "dict_keys(['Soyisim', 'Beceriler', 'Daha Önceki İş Tecrübeleri', 'Yaş'])"
     },
     "metadata": {},
     "output_type": "execute_result",
     "execution_count": 30
    }
   ],
   "source": [
    "cv[\"Aylin\"].keys()"
   ],
   "metadata": {
    "collapsed": false,
    "pycharm": {
     "name": "#%%\n",
     "is_executing": false
    }
   }
  },
  {
   "cell_type": "markdown",
   "source": [
    "**Values** metodu değerleri dödürürken, **items()** ise itemleri döndürür."
   ],
   "metadata": {
    "collapsed": false,
    "pycharm": {
     "name": "#%% md\n"
    }
   }
  },
  {
   "cell_type": "code",
   "execution_count": 31,
   "outputs": [
    {
     "data": {
      "text/plain": "dict_values([{'Soyisim': 'Ertürk', 'Beceriler': ('C#', 'Python', 'Mobil Programlama'), 'Daha Önceki İş Tecrübeleri': ['Arena Bilişim', 'DHT Lojistik', 'Trendyol'], 'Yaş': 24}, {'Soyisim': 'Metin', 'Beceriler': ('C#', 'RestAPI', 'Mobil Programlama'), 'Daha Önceki İş Tecrübeleri': ['Microsoft', 'CD Project', 'HP'], 'Yaş': 34}])"
     },
     "metadata": {},
     "output_type": "execute_result",
     "execution_count": 31
    }
   ],
   "source": [
    "cv.values()"
   ],
   "metadata": {
    "collapsed": false,
    "pycharm": {
     "name": "#%%\n",
     "is_executing": false
    }
   }
  },
  {
   "cell_type": "code",
   "execution_count": 32,
   "outputs": [
    {
     "data": {
      "text/plain": "dict_items([('Aylin', {'Soyisim': 'Ertürk', 'Beceriler': ('C#', 'Python', 'Mobil Programlama'), 'Daha Önceki İş Tecrübeleri': ['Arena Bilişim', 'DHT Lojistik', 'Trendyol'], 'Yaş': 24}), ('Deniz', {'Soyisim': 'Metin', 'Beceriler': ('C#', 'RestAPI', 'Mobil Programlama'), 'Daha Önceki İş Tecrübeleri': ['Microsoft', 'CD Project', 'HP'], 'Yaş': 34})])"
     },
     "metadata": {},
     "output_type": "execute_result",
     "execution_count": 32
    }
   ],
   "source": [
    "cv.items()\n"
   ],
   "metadata": {
    "collapsed": false,
    "pycharm": {
     "name": "#%%\n",
     "is_executing": false
    }
   }
  }
 ],
 "metadata": {
  "kernelspec": {
   "display_name": "Python 3",
   "language": "python",
   "name": "python3"
  },
  "language_info": {
   "codemirror_mode": {
    "name": "ipython",
    "version": 2
   },
   "file_extension": ".py",
   "mimetype": "text/x-python",
   "name": "python",
   "nbconvert_exporter": "python",
   "pygments_lexer": "ipython2",
   "version": "2.7.6"
  },
  "pycharm": {
   "stem_cell": {
    "cell_type": "raw",
    "source": [],
    "metadata": {
     "collapsed": false
    }
   }
  }
 },
 "nbformat": 4,
 "nbformat_minor": 0
}