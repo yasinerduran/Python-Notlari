{
 "cells": [
  {
   "cell_type": "markdown",
   "source": [
    "# Dictionary(Sözlük) Veri Yapısı\n",
    "Sözlükler anahtar (Key) ve değer (value) ikilisinin birbirleriyle eşleştirildiği bir \n",
    "veri tipidir."
   ],
   "metadata": {
    "collapsed": false
   }
  },
  {
   "cell_type": "code",
   "execution_count": 1,
   "outputs": [
    {
     "name": "stdout",
     "text": [
      "{'anahtar': 'değer', 'Mehmet': 26}\n"
     ],
     "output_type": "stream"
    }
   ],
   "source": [
    "sozluk = {\n",
    "    \"anahtar\":\"değer\",\n",
    "    \"Mehmet\":26\n",
    "}\n",
    "print(sozluk)"
   ],
   "metadata": {
    "collapsed": false,
    "pycharm": {
     "name": "#%%\n",
     "is_executing": false
    }
   }
  },
  {
   "cell_type": "markdown",
   "source": [
    "**Örnek** Haftada bulunan günlerin sıraları:"
   ],
   "metadata": {
    "collapsed": false
   }
  },
  {
   "cell_type": "code",
   "source": [
    "hafta = {\n",
    "    \"Pazartesi\":1,\n",
    "    \"Salı\":2,\n",
    "    \"Çarşamba\":3,\n",
    "    \"Perşembe\":4,\n",
    "    \"Cuma\":5,\n",
    "    \"Cumartesi\":6,\n",
    "    \"Pazar\":7\n",
    "}\n",
    "hafta[\"Çarşamba\"]"
   ],
   "metadata": {
    "collapsed": false,
    "pycharm": {
     "name": "#%%\n",
     "is_executing": false
    }
   },
   "execution_count": 4,
   "outputs": [
    {
     "data": {
      "text/plain": "3"
     },
     "metadata": {},
     "output_type": "execute_result",
     "execution_count": 4
    }
   ]
  }
 ],
 "metadata": {
  "kernelspec": {
   "display_name": "Python 3",
   "language": "python",
   "name": "python3"
  },
  "language_info": {
   "codemirror_mode": {
    "name": "ipython",
    "version": 2
   },
   "file_extension": ".py",
   "mimetype": "text/x-python",
   "name": "python",
   "nbconvert_exporter": "python",
   "pygments_lexer": "ipython2",
   "version": "2.7.6"
  },
  "pycharm": {
   "stem_cell": {
    "cell_type": "raw",
    "source": [],
    "metadata": {
     "collapsed": false
    }
   }
  }
 },
 "nbformat": 4,
 "nbformat_minor": 0
}